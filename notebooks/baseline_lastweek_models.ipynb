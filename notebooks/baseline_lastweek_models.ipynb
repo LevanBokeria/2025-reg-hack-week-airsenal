{
 "cells": [
  {
   "cell_type": "markdown",
   "id": "e4db636d",
   "metadata": {},
   "source": [
    "# Description\n",
    "\n",
    "This notebook takes the combined csv file that has info about minutes played and team, season, week, opponent, home/away, and player names, and calculates accuracy of simple predictive models that:\n",
    "- Take last 5 weeks average minutes played. But if injured, no minutes played."
   ]
  },
  {
   "cell_type": "code",
   "execution_count": 1,
   "id": "d238c34d",
   "metadata": {},
   "outputs": [],
   "source": [
    "import pandas as pd\n",
    "import numpy as np\n",
    "import os\n",
    "from utils import last_weeks_avg"
   ]
  },
  {
   "cell_type": "code",
   "execution_count": 2,
   "id": "404baf43",
   "metadata": {},
   "outputs": [],
   "source": [
    "# Load the combined data\n",
    "csv_path = ('../datasets/black_dataframe/player_minutes_with_extra_columns_2425.csv')\n",
    "\n",
    "df = pd.read_csv(csv_path)"
   ]
  },
  {
   "cell_type": "code",
   "execution_count": 3,
   "id": "051e8d33",
   "metadata": {},
   "outputs": [],
   "source": [
    "weeks = 5\n",
    "\n",
    "# Apply the function to calculate the last 5 weeks average\n",
    "df = last_weeks_avg(df, weeks=weeks)"
   ]
  },
  {
   "cell_type": "code",
   "execution_count": 4,
   "id": "6ac59c85",
   "metadata": {},
   "outputs": [],
   "source": [
    "# If injury, then set predicted minutes to 0\n",
    "df[f'avg_weeks_last_{weeks}_injury'] = df[f'avg_weeks_last_{weeks}'].where(df['reason'] == 0, 0)"
   ]
  },
  {
   "cell_type": "code",
   "execution_count": null,
   "id": "65932dd4",
   "metadata": {},
   "outputs": [],
   "source": [
    "# Calculate the RMSE between minutes_played and last_weeks_avg\n",
    "rmse = np.sqrt(((df['minutes'] - df['last_weeks_avg']) ** 2).mean())"
   ]
  },
  {
   "cell_type": "code",
   "execution_count": null,
   "id": "b550bd17",
   "metadata": {},
   "outputs": [],
   "source": [
    "# Plot overlaying histograms of minutes played and last weeks average\n",
    "import matplotlib.pyplot as plt\n",
    "plt.figure(figsize=(12, 6))\n",
    "plt.hist(df['minutes_played'], bins=30, alpha=0.5, label='Minutes Played', color='blue')\n",
    "plt.hist(df['last_weeks_avg'], bins=30, alpha=0.5, label='Last 5 Weeks Avg', color='orange')\n",
    "plt.title('Overlaying Histograms of Minutes Played and Last 5 Weeks Average')\n",
    "plt.xlabel('Minutes')\n",
    "plt.ylabel('Frequency')\n",
    "plt.legend()\n",
    "plt.grid()\n",
    "# Add a ylim for 6000\n",
    "plt.ylim(0, 1000)\n",
    "plt.savefig('minutes_played_vs_last_weeks_avg.png')\n",
    "plt.show()\n",
    "\n"
   ]
  },
  {
   "cell_type": "code",
   "execution_count": null,
   "id": "ac4791d0",
   "metadata": {},
   "outputs": [],
   "source": [
    "# Plot a histogram of last_weeks_avg\n",
    "import matplotlib.pyplot as plt\n",
    "plt.figure(figsize=(10, 6))\n",
    "plt.hist(df['last_weeks_avg'], bins=30, alpha=0.7, color='red', label='Last 5 Week Average Minutes Played')\n",
    "plt.axvline(df['last_weeks_avg'].mean(), color='blue', linestyle='dashed', linewidth=1, label='Last 5 Week Average Minutes Played')\n",
    "plt.title('Histogram of Last 5 Week Average Minutes Played')\n",
    "plt.xlabel('Last 5 Week Average Minutes Played')\n",
    "plt.ylabel('Frequency')\n",
    "plt.legend()\n",
    "plt.savefig('last_five_weeks_minutes_played.png')\n",
    "plt.show()"
   ]
  },
  {
   "cell_type": "code",
   "execution_count": null,
   "id": "4fdbad78",
   "metadata": {},
   "outputs": [],
   "source": [
    "# Plot a histogram of minutes played\n",
    "import matplotlib.pyplot as plt\n",
    "plt.figure(figsize=(10, 6))\n",
    "plt.hist(df['minutes_played'], bins=30, alpha=0.7, color='blue', label='Minutes Played')\n",
    "plt.axvline(df['minutes_played'].mean(), color='red', linestyle='dashed', linewidth=1, label='Mean Minutes Played')\n",
    "plt.title('Histogram of Minutes Played')\n",
    "plt.xlabel('Minutes Played')\n",
    "plt.ylabel('Frequency')\n",
    "plt.legend()\n",
    "plt.savefig('minutes_played_histogram.png')\n",
    "plt.show()"
   ]
  }
 ],
 "metadata": {
  "kernelspec": {
   "display_name": "venv",
   "language": "python",
   "name": "python3"
  },
  "language_info": {
   "codemirror_mode": {
    "name": "ipython",
    "version": 3
   },
   "file_extension": ".py",
   "mimetype": "text/x-python",
   "name": "python",
   "nbconvert_exporter": "python",
   "pygments_lexer": "ipython3",
   "version": "3.12.4"
  }
 },
 "nbformat": 4,
 "nbformat_minor": 5
}

{
 "cells": [
  {
   "cell_type": "markdown",
   "id": "e4db636d",
   "metadata": {},
   "source": [
    "# Description\n",
    "\n",
    "This notebook takes the combined csv file that has info about minutes played and team, season, week, opponent, home/away, and player names, and calculates accuracy of simple predictive models that:\n",
    "- Take last 5 weeks average minutes played.\n",
    "- Randomly takes minutes played from last 5 weeks"
   ]
  }
 ],
 "metadata": {
  "language_info": {
   "name": "python"
  }
 },
 "nbformat": 4,
 "nbformat_minor": 5
}

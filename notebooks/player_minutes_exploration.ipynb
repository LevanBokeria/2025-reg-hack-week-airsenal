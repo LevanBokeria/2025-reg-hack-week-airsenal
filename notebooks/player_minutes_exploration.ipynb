{
 "cells": [
  {
   "cell_type": "markdown",
   "id": "58d603f8",
   "metadata": {},
   "source": [
    "# Arsenal Player Minutes Data Exploration\n",
    "\n",
    "This notebook explores the Arsenal player minutes dataset for the 2024-25 season to understand patterns and relationships that could help predict player minutes from other variables.\n",
    "\n",
    "## Dataset Overview\n",
    "- **Target Variable**: `minutes` - minutes played during games\n",
    "- **Features**: Performance metrics (xG, xA, goals, assists), match context (home/away, opponent), player status (injured/suspended)\n",
    "- **Team**: Arsenal (ARS)\n",
    "- **Season**: 2024-25"
   ]
  },
  {
   "cell_type": "code",
   "execution_count": 1,
   "id": "16e0f582",
   "metadata": {},
   "outputs": [],
   "source": [
    "# Import Required Libraries\n",
    "import pandas as pd\n",
    "import numpy as np\n",
    "import matplotlib.pyplot as plt\n",
    "import seaborn as sns\n",
    "import warnings\n",
    "warnings.filterwarnings('ignore')\n",
    "\n",
    "# Set plotting style\n",
    "plt.style.use('default')\n",
    "sns.set_palette('husl')\n",
    "\n",
    "# Configure matplotlib\n",
    "plt.rcParams['figure.figsize'] = (12, 8)\n",
    "plt.rcParams['font.size'] = 10"
   ]
  },
  {
   "cell_type": "code",
   "execution_count": 2,
   "id": "67d2b07f",
   "metadata": {},
   "outputs": [
    {
     "name": "stdout",
     "output_type": "stream",
     "text": [
      "Dataset Shape: (27283, 18)\n",
      "\n",
      "Column Names:\n",
      "['season', 'team', 'week', 'date', 'opponent', 'home_or_away', 'outcome', 'player', 'injured_or_suspended', 'reason', 'minutes', 'xG', 'xA', 'xGC', 'bps', 'goals', 'assists', 'goals_conceded']\n",
      "\n",
      "First 5 rows:\n"
     ]
    },
    {
     "data": {
      "application/vnd.microsoft.datawrangler.viewer.v0+json": {
       "columns": [
        {
         "name": "index",
         "rawType": "int64",
         "type": "integer"
        },
        {
         "name": "season",
         "rawType": "int64",
         "type": "integer"
        },
        {
         "name": "team",
         "rawType": "object",
         "type": "string"
        },
        {
         "name": "week",
         "rawType": "int64",
         "type": "integer"
        },
        {
         "name": "date",
         "rawType": "object",
         "type": "string"
        },
        {
         "name": "opponent",
         "rawType": "object",
         "type": "string"
        },
        {
         "name": "home_or_away",
         "rawType": "object",
         "type": "string"
        },
        {
         "name": "outcome",
         "rawType": "object",
         "type": "string"
        },
        {
         "name": "player",
         "rawType": "object",
         "type": "string"
        },
        {
         "name": "injured_or_suspended",
         "rawType": "bool",
         "type": "boolean"
        },
        {
         "name": "reason",
         "rawType": "object",
         "type": "unknown"
        },
        {
         "name": "minutes",
         "rawType": "int64",
         "type": "integer"
        },
        {
         "name": "xG",
         "rawType": "float64",
         "type": "float"
        },
        {
         "name": "xA",
         "rawType": "float64",
         "type": "float"
        },
        {
         "name": "xGC",
         "rawType": "float64",
         "type": "float"
        },
        {
         "name": "bps",
         "rawType": "int64",
         "type": "integer"
        },
        {
         "name": "goals",
         "rawType": "int64",
         "type": "integer"
        },
        {
         "name": "assists",
         "rawType": "int64",
         "type": "integer"
        },
        {
         "name": "goals_conceded",
         "rawType": "int64",
         "type": "integer"
        }
       ],
       "ref": "bd1163cc-29aa-4d10-b483-b0c0f1cb07ad",
       "rows": [
        [
         "0",
         "2425",
         "ARS",
         "1",
         "2024-08-17T14:00:00Z",
         "WOL",
         "home",
         "win",
         "Bukayo Saka",
         "False",
         null,
         "79",
         "0.35",
         "0.37",
         "0.32",
         "42",
         "1",
         "1",
         "0"
        ],
        [
         "1",
         "2425",
         "ARS",
         "1",
         "2024-08-17T14:00:00Z",
         "WOL",
         "home",
         "win",
         "Martin Ødegaard",
         "False",
         null,
         "90",
         "0.02",
         "0.06",
         "0.47",
         "16",
         "0",
         "0",
         "0"
        ],
        [
         "2",
         "2425",
         "ARS",
         "1",
         "2024-08-17T14:00:00Z",
         "WOL",
         "home",
         "win",
         "Kai Havertz",
         "False",
         null,
         "90",
         "0.45",
         "0.04",
         "0.47",
         "48",
         "1",
         "1",
         "0"
        ],
        [
         "3",
         "2425",
         "ARS",
         "1",
         "2024-08-17T14:00:00Z",
         "WOL",
         "home",
         "win",
         "Gabriel Fernando de Jesus",
         "False",
         null,
         "5",
         "0.0",
         "0.0",
         "0.15",
         "1",
         "0",
         "0",
         "0"
        ],
        [
         "4",
         "2425",
         "ARS",
         "1",
         "2024-08-17T14:00:00Z",
         "WOL",
         "home",
         "win",
         "Gabriel Martinelli Silva",
         "False",
         null,
         "90",
         "0.08",
         "0.19",
         "0.47",
         "16",
         "0",
         "0",
         "0"
        ]
       ],
       "shape": {
        "columns": 18,
        "rows": 5
       }
      },
      "text/html": [
       "<div>\n",
       "<style scoped>\n",
       "    .dataframe tbody tr th:only-of-type {\n",
       "        vertical-align: middle;\n",
       "    }\n",
       "\n",
       "    .dataframe tbody tr th {\n",
       "        vertical-align: top;\n",
       "    }\n",
       "\n",
       "    .dataframe thead th {\n",
       "        text-align: right;\n",
       "    }\n",
       "</style>\n",
       "<table border=\"1\" class=\"dataframe\">\n",
       "  <thead>\n",
       "    <tr style=\"text-align: right;\">\n",
       "      <th></th>\n",
       "      <th>season</th>\n",
       "      <th>team</th>\n",
       "      <th>week</th>\n",
       "      <th>date</th>\n",
       "      <th>opponent</th>\n",
       "      <th>home_or_away</th>\n",
       "      <th>outcome</th>\n",
       "      <th>player</th>\n",
       "      <th>injured_or_suspended</th>\n",
       "      <th>reason</th>\n",
       "      <th>minutes</th>\n",
       "      <th>xG</th>\n",
       "      <th>xA</th>\n",
       "      <th>xGC</th>\n",
       "      <th>bps</th>\n",
       "      <th>goals</th>\n",
       "      <th>assists</th>\n",
       "      <th>goals_conceded</th>\n",
       "    </tr>\n",
       "  </thead>\n",
       "  <tbody>\n",
       "    <tr>\n",
       "      <th>0</th>\n",
       "      <td>2425</td>\n",
       "      <td>ARS</td>\n",
       "      <td>1</td>\n",
       "      <td>2024-08-17T14:00:00Z</td>\n",
       "      <td>WOL</td>\n",
       "      <td>home</td>\n",
       "      <td>win</td>\n",
       "      <td>Bukayo Saka</td>\n",
       "      <td>False</td>\n",
       "      <td>NaN</td>\n",
       "      <td>79</td>\n",
       "      <td>0.35</td>\n",
       "      <td>0.37</td>\n",
       "      <td>0.32</td>\n",
       "      <td>42</td>\n",
       "      <td>1</td>\n",
       "      <td>1</td>\n",
       "      <td>0</td>\n",
       "    </tr>\n",
       "    <tr>\n",
       "      <th>1</th>\n",
       "      <td>2425</td>\n",
       "      <td>ARS</td>\n",
       "      <td>1</td>\n",
       "      <td>2024-08-17T14:00:00Z</td>\n",
       "      <td>WOL</td>\n",
       "      <td>home</td>\n",
       "      <td>win</td>\n",
       "      <td>Martin Ødegaard</td>\n",
       "      <td>False</td>\n",
       "      <td>NaN</td>\n",
       "      <td>90</td>\n",
       "      <td>0.02</td>\n",
       "      <td>0.06</td>\n",
       "      <td>0.47</td>\n",
       "      <td>16</td>\n",
       "      <td>0</td>\n",
       "      <td>0</td>\n",
       "      <td>0</td>\n",
       "    </tr>\n",
       "    <tr>\n",
       "      <th>2</th>\n",
       "      <td>2425</td>\n",
       "      <td>ARS</td>\n",
       "      <td>1</td>\n",
       "      <td>2024-08-17T14:00:00Z</td>\n",
       "      <td>WOL</td>\n",
       "      <td>home</td>\n",
       "      <td>win</td>\n",
       "      <td>Kai Havertz</td>\n",
       "      <td>False</td>\n",
       "      <td>NaN</td>\n",
       "      <td>90</td>\n",
       "      <td>0.45</td>\n",
       "      <td>0.04</td>\n",
       "      <td>0.47</td>\n",
       "      <td>48</td>\n",
       "      <td>1</td>\n",
       "      <td>1</td>\n",
       "      <td>0</td>\n",
       "    </tr>\n",
       "    <tr>\n",
       "      <th>3</th>\n",
       "      <td>2425</td>\n",
       "      <td>ARS</td>\n",
       "      <td>1</td>\n",
       "      <td>2024-08-17T14:00:00Z</td>\n",
       "      <td>WOL</td>\n",
       "      <td>home</td>\n",
       "      <td>win</td>\n",
       "      <td>Gabriel Fernando de Jesus</td>\n",
       "      <td>False</td>\n",
       "      <td>NaN</td>\n",
       "      <td>5</td>\n",
       "      <td>0.00</td>\n",
       "      <td>0.00</td>\n",
       "      <td>0.15</td>\n",
       "      <td>1</td>\n",
       "      <td>0</td>\n",
       "      <td>0</td>\n",
       "      <td>0</td>\n",
       "    </tr>\n",
       "    <tr>\n",
       "      <th>4</th>\n",
       "      <td>2425</td>\n",
       "      <td>ARS</td>\n",
       "      <td>1</td>\n",
       "      <td>2024-08-17T14:00:00Z</td>\n",
       "      <td>WOL</td>\n",
       "      <td>home</td>\n",
       "      <td>win</td>\n",
       "      <td>Gabriel Martinelli Silva</td>\n",
       "      <td>False</td>\n",
       "      <td>NaN</td>\n",
       "      <td>90</td>\n",
       "      <td>0.08</td>\n",
       "      <td>0.19</td>\n",
       "      <td>0.47</td>\n",
       "      <td>16</td>\n",
       "      <td>0</td>\n",
       "      <td>0</td>\n",
       "      <td>0</td>\n",
       "    </tr>\n",
       "  </tbody>\n",
       "</table>\n",
       "</div>"
      ],
      "text/plain": [
       "   season team  week                  date opponent home_or_away outcome  \\\n",
       "0    2425  ARS     1  2024-08-17T14:00:00Z      WOL         home     win   \n",
       "1    2425  ARS     1  2024-08-17T14:00:00Z      WOL         home     win   \n",
       "2    2425  ARS     1  2024-08-17T14:00:00Z      WOL         home     win   \n",
       "3    2425  ARS     1  2024-08-17T14:00:00Z      WOL         home     win   \n",
       "4    2425  ARS     1  2024-08-17T14:00:00Z      WOL         home     win   \n",
       "\n",
       "                      player  injured_or_suspended reason  minutes    xG  \\\n",
       "0                Bukayo Saka                 False    NaN       79  0.35   \n",
       "1            Martin Ødegaard                 False    NaN       90  0.02   \n",
       "2                Kai Havertz                 False    NaN       90  0.45   \n",
       "3  Gabriel Fernando de Jesus                 False    NaN        5  0.00   \n",
       "4   Gabriel Martinelli Silva                 False    NaN       90  0.08   \n",
       "\n",
       "     xA   xGC  bps  goals  assists  goals_conceded  \n",
       "0  0.37  0.32   42      1        1               0  \n",
       "1  0.06  0.47   16      0        0               0  \n",
       "2  0.04  0.47   48      1        1               0  \n",
       "3  0.00  0.15    1      0        0               0  \n",
       "4  0.19  0.47   16      0        0               0  "
      ]
     },
     "execution_count": 2,
     "metadata": {},
     "output_type": "execute_result"
    }
   ],
   "source": [
    "# Load and Inspect Data\n",
    "file_path = '/Users/lbokeria/projects/2025reghackweek/2025-reg-hack-week-airsenal/datasets/black_dataframe/player_minutes_with_extra_columns_2425.csv'\n",
    "df = pd.read_csv(file_path, index_col=0)\n",
    "\n",
    "print(\"Dataset Shape:\", df.shape)\n",
    "print(\"\\nColumn Names:\")\n",
    "print(df.columns.tolist())\n",
    "print(\"\\nFirst 5 rows:\")\n",
    "df.head()"
   ]
  },
  {
   "cell_type": "code",
   "execution_count": 3,
   "id": "ec950cd2",
   "metadata": {},
   "outputs": [
    {
     "name": "stdout",
     "output_type": "stream",
     "text": [
      "Data Types:\n",
      "season                    int64\n",
      "team                     object\n",
      "week                      int64\n",
      "date                     object\n",
      "opponent                 object\n",
      "home_or_away             object\n",
      "outcome                  object\n",
      "player                   object\n",
      "injured_or_suspended       bool\n",
      "reason                   object\n",
      "minutes                   int64\n",
      "xG                      float64\n",
      "xA                      float64\n",
      "xGC                     float64\n",
      "bps                       int64\n",
      "goals                     int64\n",
      "assists                   int64\n",
      "goals_conceded            int64\n",
      "dtype: object\n",
      "\n",
      "Dataset Info:\n",
      "<class 'pandas.core.frame.DataFrame'>\n",
      "Index: 27283 entries, 0 to 27282\n",
      "Data columns (total 18 columns):\n",
      " #   Column                Non-Null Count  Dtype  \n",
      "---  ------                --------------  -----  \n",
      " 0   season                27283 non-null  int64  \n",
      " 1   team                  27283 non-null  object \n",
      " 2   week                  27283 non-null  int64  \n",
      " 3   date                  27283 non-null  object \n",
      " 4   opponent              27283 non-null  object \n",
      " 5   home_or_away          27283 non-null  object \n",
      " 6   outcome               27283 non-null  object \n",
      " 7   player                27283 non-null  object \n",
      " 8   injured_or_suspended  27283 non-null  bool   \n",
      " 9   reason                1026 non-null   object \n",
      " 10  minutes               27283 non-null  int64  \n",
      " 11  xG                    27283 non-null  float64\n",
      " 12  xA                    27283 non-null  float64\n",
      " 13  xGC                   27283 non-null  float64\n",
      " 14  bps                   27283 non-null  int64  \n",
      " 15  goals                 27283 non-null  int64  \n",
      " 16  assists               27283 non-null  int64  \n",
      " 17  goals_conceded        27283 non-null  int64  \n",
      "dtypes: bool(1), float64(3), int64(7), object(7)\n",
      "memory usage: 3.8+ MB\n",
      "\n",
      "Unique values in categorical columns:\n",
      "Teams: ['ARS' 'AVL' 'BOU' 'BRE' 'BHA' 'CHE' 'CRY' 'EVE' 'FUL' 'IPS' 'LEI' 'LIV'\n",
      " 'MCI' 'MUN' 'NEW' 'NFO' 'SOU' 'TOT' 'WHU' 'WOL']\n",
      "Home/Away: ['home' 'away']\n",
      "Injured/Suspended: [False  True]\n",
      "Number of unique players: 784\n",
      "Number of unique opponents: 20\n"
     ]
    }
   ],
   "source": [
    "# Data Types and Basic Information\n",
    "print(\"Data Types:\")\n",
    "print(df.dtypes)\n",
    "print(\"\\nDataset Info:\")\n",
    "df.info()\n",
    "print(\"\\nUnique values in categorical columns:\")\n",
    "print(f\"Teams: {df['team'].unique()}\")\n",
    "print(f\"Home/Away: {df['home_or_away'].unique()}\")\n",
    "print(f\"Injured/Suspended: {df['injured_or_suspended'].unique()}\")\n",
    "print(f\"Number of unique players: {df['player'].nunique()}\")\n",
    "print(f\"Number of unique opponents: {df['opponent'].nunique()}\")"
   ]
  },
  {
   "cell_type": "code",
   "execution_count": 4,
   "id": "a697d9a6",
   "metadata": {},
   "outputs": [
    {
     "name": "stdout",
     "output_type": "stream",
     "text": [
      "Missing Values:\n",
      "reason    26257\n",
      "dtype: int64\n"
     ]
    },
    {
     "data": {
      "image/png": "[encoded data removed]",
      "text/plain": [
       "<Figure size 1200x600 with 1 Axes>"
      ]
     },
     "metadata": {},
     "output_type": "display_data"
    }
   ],
   "source": [
    "# Check for Missing Values\n",
    "missing_values = df.isnull().sum()\n",
    "print(\"Missing Values:\")\n",
    "print(missing_values[missing_values > 0])\n",
    "\n",
    "if missing_values.sum() > 0:\n",
    "    plt.figure(figsize=(12, 6))\n",
    "    missing_data = df.isnull().sum()\n",
    "    missing_data = missing_data[missing_data > 0]\n",
    "    missing_data.plot(kind='bar')\n",
    "    plt.title('Missing Values by Column')\n",
    "    plt.ylabel('Number of Missing Values')\n",
    "    plt.xticks(rotation=45)\n",
    "    plt.tight_layout()\n",
    "    plt.show()\n",
    "else:\n",
    "    print(\"No missing values found in the dataset!\")"
   ]
  },
  {
   "cell_type": "code",
   "execution_count": 5,
   "id": "51d0fc7a",
   "metadata": {},
   "outputs": [
    {
     "name": "stdout",
     "output_type": "stream",
     "text": [
      "Summary Statistics for Numerical Columns:\n",
      "        season          week      minutes            xG            xA  \\\n",
      "count  27283.0  27283.000000  27283.00000  27283.000000  27283.000000   \n",
      "mean    2425.0     20.259576     27.43397      0.040344      0.026087   \n",
      "std        0.0     10.909236     38.04890      0.143184      0.081755   \n",
      "min     2425.0      1.000000      0.00000      0.000000      0.000000   \n",
      "25%     2425.0     11.000000      0.00000      0.000000      0.000000   \n",
      "50%     2425.0     21.000000      0.00000      0.000000      0.000000   \n",
      "75%     2425.0     30.000000     72.00000      0.000000      0.010000   \n",
      "max     2425.0     38.000000     90.00000      2.410000      1.230000   \n",
      "\n",
      "                xGC           bps         goals       assists  goals_conceded  \n",
      "count  27283.000000  27283.000000  27283.000000  27283.000000    27283.000000  \n",
      "mean       0.438775      4.748891      0.039622      0.035846        0.449547  \n",
      "std        0.745216      9.338157      0.214407      0.201066        0.908449  \n",
      "min        0.000000    -25.000000      0.000000      0.000000        0.000000  \n",
      "25%        0.000000      0.000000      0.000000      0.000000        0.000000  \n",
      "50%        0.000000      0.000000      0.000000      0.000000        0.000000  \n",
      "75%        0.720000      6.000000      0.000000      0.000000        1.000000  \n",
      "max        5.430000     97.000000      4.000000      3.000000        7.000000  \n",
      "\n",
      "==================================================\n",
      "MINUTES PLAYED - KEY STATISTICS\n",
      "==================================================\n",
      "Mean minutes played: 27.43\n",
      "Median minutes played: 0.00\n",
      "Standard deviation: 38.05\n",
      "Minimum minutes: 0\n",
      "Maximum minutes: 90\n",
      "Games with 0 minutes: 15716 (57.6%)\n",
      "Games with full 90 minutes: 5309 (19.5%)\n"
     ]
    }
   ],
   "source": [
    "# Generate Summary Statistics\n",
    "print(\"Summary Statistics for Numerical Columns:\")\n",
    "numerical_cols = df.select_dtypes(include=[np.number]).columns\n",
    "print(df[numerical_cols].describe())\n",
    "\n",
    "# Focus on key statistics for minutes (our target variable)\n",
    "print(\"\\n\" + \"=\"*50)\n",
    "print(\"MINUTES PLAYED - KEY STATISTICS\")\n",
    "print(\"=\"*50)\n",
    "print(f\"Mean minutes played: {df['minutes'].mean():.2f}\")\n",
    "print(f\"Median minutes played: {df['minutes'].median():.2f}\")\n",
    "print(f\"Standard deviation: {df['minutes'].std():.2f}\")\n",
    "print(f\"Minimum minutes: {df['minutes'].min()}\")\n",
    "print(f\"Maximum minutes: {df['minutes'].max()}\")\n",
    "print(f\"Games with 0 minutes: {(df['minutes'] == 0).sum()} ({(df['minutes'] == 0).mean()*100:.1f}%)\")\n",
    "print(f\"Games with full 90 minutes: {(df['minutes'] == 90).sum()} ({(df['minutes'] == 90).mean()*100:.1f}%)\")"
   ]
  },
  {
   "cell_type": "code",
   "execution_count": 8,
   "id": "24a8f367",
   "metadata": {},
   "outputs": [
    {
     "data": {
      "application/vnd.microsoft.datawrangler.viewer.v0+json": {
       "columns": [
        {
         "name": "index",
         "rawType": "int64",
         "type": "integer"
        },
        {
         "name": "player",
         "rawType": "object",
         "type": "string"
        },
        {
         "name": "minutes",
         "rawType": "int64",
         "type": "integer"
        }
       ],
       "ref": "f90bca4c-7004-4bea-a6b4-1e5ba123bc1a",
       "rows": [
        [
         "0",
         "Aaron Anselmino",
         "14"
        ],
        [
         "1",
         "Aaron Cresswell",
         "38"
        ],
        [
         "2",
         "Aaron Hickey",
         "38"
        ],
        [
         "3",
         "Aaron Ramsdale",
         "38"
        ],
        [
         "4",
         "Aaron Wan-Bissaka",
         "38"
        ],
        [
         "5",
         "Abdoulaye Doucouré",
         "38"
        ],
        [
         "6",
         "Abdukodir Khusanov",
         "16"
        ],
        [
         "7",
         "Abdul Fatawu",
         "38"
        ],
        [
         "8",
         "Adam Armstrong",
         "38"
        ],
        [
         "9",
         "Adam Lallana",
         "38"
        ],
        [
         "10",
         "Adam Smith",
         "38"
        ],
        [
         "11",
         "Adam Webster",
         "38"
        ],
        [
         "12",
         "Adam Wharton",
         "38"
        ],
        [
         "13",
         "Adama Traoré",
         "38"
        ],
        [
         "14",
         "Adrian Mazilu",
         "38"
        ],
        [
         "15",
         "Albert Grønbæk",
         "16"
        ],
        [
         "16",
         "Alejandro Garnacho",
         "38"
        ],
        [
         "17",
         "Alejo Véliz",
         "38"
        ],
        [
         "18",
         "Alex Iwobi",
         "38"
        ],
        [
         "19",
         "Alex McCarthy",
         "38"
        ],
        [
         "20",
         "Alex Mighten",
         "38"
        ],
        [
         "21",
         "Alex Murphy",
         "38"
        ],
        [
         "22",
         "Alex Palmer",
         "14"
        ],
        [
         "23",
         "Alex Paulsen",
         "38"
        ],
        [
         "24",
         "Alex Scott",
         "38"
        ],
        [
         "25",
         "Alexander Isak",
         "38"
        ],
        [
         "26",
         "Alexis Mac Allister",
         "38"
        ],
        [
         "27",
         "Alfie Devine",
         "38"
        ],
        [
         "28",
         "Alfie Dorrington",
         "23"
        ],
        [
         "29",
         "Alfie Gilchrist",
         "38"
        ],
        [
         "30",
         "Alfie Pond",
         "33"
        ],
        [
         "31",
         "Alfie Whiteman",
         "38"
        ],
        [
         "32",
         "Ali Al-Hamadi",
         "38"
        ],
        [
         "33",
         "Alisson Ramses Becker",
         "38"
        ],
        [
         "34",
         "Alphonse Areola",
         "38"
        ],
        [
         "35",
         "Altay Bayindir",
         "38"
        ],
        [
         "36",
         "Amad Diallo",
         "38"
        ],
        [
         "37",
         "Amadou Onana",
         "38"
        ],
        [
         "38",
         "Amara Nallo",
         "25"
        ],
        [
         "39",
         "Amario Cozier-Duberry",
         "38"
        ],
        [
         "40",
         "Andreas Hoelgebaum Pereira",
         "38"
        ],
        [
         "41",
         "Andrew Moran",
         "38"
        ],
        [
         "42",
         "Andrew Omobamidele",
         "38"
        ],
        [
         "43",
         "Andrew Robertson",
         "38"
        ],
        [
         "44",
         "Andrey Nascimento dos Santos",
         "38"
        ],
        [
         "45",
         "André Onana",
         "38"
        ],
        [
         "46",
         "André Trindade da Costa Neto",
         "36"
        ],
        [
         "47",
         "Andrés García",
         "16"
        ],
        [
         "48",
         "Andy Irving",
         "38"
        ],
        [
         "49",
         "Anthony Elanga",
         "38"
        ]
       ],
       "shape": {
        "columns": 2,
        "rows": 784
       }
      },
      "text/html": [
       "<div>\n",
       "<style scoped>\n",
       "    .dataframe tbody tr th:only-of-type {\n",
       "        vertical-align: middle;\n",
       "    }\n",
       "\n",
       "    .dataframe tbody tr th {\n",
       "        vertical-align: top;\n",
       "    }\n",
       "\n",
       "    .dataframe thead th {\n",
       "        text-align: right;\n",
       "    }\n",
       "</style>\n",
       "<table border=\"1\" class=\"dataframe\">\n",
       "  <thead>\n",
       "    <tr style=\"text-align: right;\">\n",
       "      <th></th>\n",
       "      <th>player</th>\n",
       "      <th>minutes</th>\n",
       "    </tr>\n",
       "  </thead>\n",
       "  <tbody>\n",
       "    <tr>\n",
       "      <th>0</th>\n",
       "      <td>Aaron Anselmino</td>\n",
       "      <td>14</td>\n",
       "    </tr>\n",
       "    <tr>\n",
       "      <th>1</th>\n",
       "      <td>Aaron Cresswell</td>\n",
       "      <td>38</td>\n",
       "    </tr>\n",
       "    <tr>\n",
       "      <th>2</th>\n",
       "      <td>Aaron Hickey</td>\n",
       "      <td>38</td>\n",
       "    </tr>\n",
       "    <tr>\n",
       "      <th>3</th>\n",
       "      <td>Aaron Ramsdale</td>\n",
       "      <td>38</td>\n",
       "    </tr>\n",
       "    <tr>\n",
       "      <th>4</th>\n",
       "      <td>Aaron Wan-Bissaka</td>\n",
       "      <td>38</td>\n",
       "    </tr>\n",
       "    <tr>\n",
       "      <th>...</th>\n",
       "      <td>...</td>\n",
       "      <td>...</td>\n",
       "    </tr>\n",
       "    <tr>\n",
       "      <th>779</th>\n",
       "      <td>Zain Silcott-Duberry</td>\n",
       "      <td>17</td>\n",
       "    </tr>\n",
       "    <tr>\n",
       "      <th>780</th>\n",
       "      <td>Álex Moreno Lopera</td>\n",
       "      <td>38</td>\n",
       "    </tr>\n",
       "    <tr>\n",
       "      <th>781</th>\n",
       "      <td>Ângelo Gabriel Borges Damaceno</td>\n",
       "      <td>38</td>\n",
       "    </tr>\n",
       "    <tr>\n",
       "      <th>782</th>\n",
       "      <td>Đorđe Petrović</td>\n",
       "      <td>38</td>\n",
       "    </tr>\n",
       "    <tr>\n",
       "      <th>783</th>\n",
       "      <td>Łukasz Fabiański</td>\n",
       "      <td>38</td>\n",
       "    </tr>\n",
       "  </tbody>\n",
       "</table>\n",
       "<p>784 rows × 2 columns</p>\n",
       "</div>"
      ],
      "text/plain": [
       "                             player  minutes\n",
       "0                   Aaron Anselmino       14\n",
       "1                   Aaron Cresswell       38\n",
       "2                      Aaron Hickey       38\n",
       "3                    Aaron Ramsdale       38\n",
       "4                 Aaron Wan-Bissaka       38\n",
       "..                              ...      ...\n",
       "779            Zain Silcott-Duberry       17\n",
       "780              Álex Moreno Lopera       38\n",
       "781  Ângelo Gabriel Borges Damaceno       38\n",
       "782                  Đorđe Petrović       38\n",
       "783                Łukasz Fabiański       38\n",
       "\n",
       "[784 rows x 2 columns]"
      ]
     },
     "execution_count": 8,
     "metadata": {},
     "output_type": "execute_result"
    }
   ],
   "source": [
    "# How many games did each player play?\n",
    "games_per_player = df.groupby('player').count()['minutes'].reset_index()\n",
    "games_per_player\n"
   ]
  },
  {
   "cell_type": "code",
   "execution_count": 6,
   "id": "ef8f713e",
   "metadata": {},
   "outputs": [
    {
     "data": {
      "image/png": "[encoded data removed]",
      "text/plain": [
       "<Figure size 2000x1000 with 8 Axes>"
      ]
     },
     "metadata": {},
     "output_type": "display_data"
    }
   ],
   "source": [
    "# Plot Histograms for Numerical Columns\n",
    "numerical_cols = ['minutes', 'xG', 'xA', 'xGC', 'bps', 'goals', 'assists', 'goals_conceded']\n",
    "\n",
    "fig, axes = plt.subplots(2, 4, figsize=(20, 10))\n",
    "fig.suptitle('Distribution of Numerical Variables', fontsize=16, y=1.02)\n",
    "\n",
    "for i, col in enumerate(numerical_cols):\n",
    "    row = i // 4\n",
    "    col_idx = i % 4\n",
    "    ax = axes[row, col_idx]\n",
    "    \n",
    "    # Create histogram\n",
    "    ax.hist(df[col], bins=30, alpha=0.7, edgecolor='black')\n",
    "    ax.set_title(f'Distribution of {col}')\n",
    "    ax.set_xlabel(col)\n",
    "    ax.set_ylabel('Frequency')\n",
    "    \n",
    "    # Add statistics text\n",
    "    mean_val = df[col].mean()\n",
    "    median_val = df[col].median()\n",
    "    ax.axvline(mean_val, color='red', linestyle='--', alpha=0.7, label=f'Mean: {mean_val:.2f}')\n",
    "    ax.axvline(median_val, color='orange', linestyle='--', alpha=0.7, label=f'Median: {median_val:.2f}')\n",
    "    ax.legend(fontsize=8)\n",
    "\n",
    "plt.tight_layout()\n",
    "plt.show()"
   ]
  },
  {
   "cell_type": "code",
   "execution_count": null,
   "id": "186bab2f",
   "metadata": {},
   "outputs": [],
   "source": [
    "# Correlation Matrix and Heatmap\n",
    "numerical_df = df[numerical_cols]\n",
    "correlation_matrix = numerical_df.corr()\n",
    "\n",
    "print(\"Correlation with Minutes Played:\")\n",
    "minutes_corr = correlation_matrix['minutes'].sort_values(ascending=False)\n",
    "print(minutes_corr)\n",
    "\n",
    "# Create correlation heatmap\n",
    "plt.figure(figsize=(12, 10))\n",
    "mask = np.triu(np.ones_like(correlation_matrix, dtype=bool))\n",
    "sns.heatmap(correlation_matrix, \n",
    "            annot=True, \n",
    "            cmap='RdBu_r', \n",
    "            center=0,\n",
    "            mask=mask,\n",
    "            square=True,\n",
    "            fmt='.3f',\n",
    "            cbar_kws={'shrink': 0.8})\n",
    "plt.title('Correlation Matrix - Numerical Variables', fontsize=14, pad=20)\n",
    "plt.tight_layout()\n",
    "plt.show()\n",
    "\n",
    "# Highlight strong correlations with minutes\n",
    "print(\"\\nStrong correlations with minutes (|r| > 0.3):\")\n",
    "strong_corr = minutes_corr[abs(minutes_corr) > 0.3]\n",
    "for var, corr in strong_corr.items():\n",
    "    if var != 'minutes':\n",
    "        print(f\"{var}: {corr:.3f}\")"
   ]
  },
  {
   "cell_type": "code",
   "execution_count": null,
   "id": "28a2aff4",
   "metadata": {},
   "outputs": [],
   "source": [
    "# Scatter Plots for Key Variables vs Minutes\n",
    "key_vars = ['xG', 'xA', 'bps', 'goals', 'assists']\n",
    "\n",
    "fig, axes = plt.subplots(2, 3, figsize=(18, 12))\n",
    "fig.suptitle('Relationships between Minutes Played and Performance Metrics', fontsize=16)\n",
    "\n",
    "for i, var in enumerate(key_vars):\n",
    "    row = i // 3\n",
    "    col = i % 3\n",
    "    ax = axes[row, col]\n",
    "    \n",
    "    # Create scatter plot\n",
    "    ax.scatter(df[var], df['minutes'], alpha=0.6, s=30)\n",
    "    ax.set_xlabel(var)\n",
    "    ax.set_ylabel('Minutes Played')\n",
    "    ax.set_title(f'Minutes vs {var}')\n",
    "    \n",
    "    # Add correlation coefficient\n",
    "    corr_coef = df[var].corr(df['minutes'])\n",
    "    ax.text(0.05, 0.95, f'r = {corr_coef:.3f}', \n",
    "            transform=ax.transAxes, \n",
    "            bbox=dict(boxstyle='round', facecolor='white', alpha=0.8))\n",
    "    \n",
    "    # Add trend line\n",
    "    z = np.polyfit(df[var], df['minutes'], 1)\n",
    "    p = np.poly1d(z)\n",
    "    ax.plot(df[var], p(df[var]), \"r--\", alpha=0.8)\n",
    "\n",
    "# Remove empty subplot\n",
    "axes[1, 2].remove()\n",
    "\n",
    "plt.tight_layout()\n",
    "plt.show()"
   ]
  },
  {
   "cell_type": "code",
   "execution_count": null,
   "id": "7ff372bf",
   "metadata": {},
   "outputs": [],
   "source": [
    "# Minutes Distribution by Categorical Variables\n",
    "\n",
    "# 1. Minutes by Home/Away\n",
    "fig, axes = plt.subplots(2, 2, figsize=(16, 12))\n",
    "\n",
    "# Home vs Away\n",
    "sns.boxplot(data=df, x='home_or_away', y='minutes', ax=axes[0, 0])\n",
    "axes[0, 0].set_title('Minutes Played: Home vs Away')\n",
    "axes[0, 0].set_ylabel('Minutes')\n",
    "\n",
    "# Injured/Suspended status\n",
    "sns.boxplot(data=df, x='injured_or_suspended', y='minutes', ax=axes[0, 1])\n",
    "axes[0, 1].set_title('Minutes Played: By Injury/Suspension Status')\n",
    "axes[0, 1].set_ylabel('Minutes')\n",
    "\n",
    "# Minutes distribution by week (to see if there are seasonal patterns)\n",
    "weekly_avg = df.groupby('week')['minutes'].mean().reset_index()\n",
    "axes[1, 0].plot(weekly_avg['week'], weekly_avg['minutes'], marker='o')\n",
    "axes[1, 0].set_title('Average Minutes Played by Week')\n",
    "axes[1, 0].set_xlabel('Week')\n",
    "axes[1, 0].set_ylabel('Average Minutes')\n",
    "axes[1, 0].grid(True, alpha=0.3)\n",
    "\n",
    "# Top players by total minutes\n",
    "top_players = df.groupby('player')['minutes'].sum().sort_values(ascending=False).head(10)\n",
    "axes[1, 1].barh(range(len(top_players)), top_players.values)\n",
    "axes[1, 1].set_yticks(range(len(top_players)))\n",
    "axes[1, 1].set_yticklabels([name.split()[-1] for name in top_players.index])  # Use last name only\n",
    "axes[1, 1].set_title('Top 10 Players by Total Minutes')\n",
    "axes[1, 1].set_xlabel('Total Minutes')\n",
    "\n",
    "plt.tight_layout()\n",
    "plt.show()\n",
    "\n",
    "# Print some statistics\n",
    "print(\"Minutes by Home/Away:\")\n",
    "print(df.groupby('home_or_away')['minutes'].describe())\n",
    "print(\"\\nMinutes by Injury/Suspension Status:\")\n",
    "print(df.groupby('injured_or_suspended')['minutes'].describe())"
   ]
  },
  {
   "cell_type": "code",
   "execution_count": null,
   "id": "748290ae",
   "metadata": {},
   "outputs": [],
   "source": [
    "# Player-Specific Analysis\n",
    "\n",
    "# Get players with sufficient game time data (appeared in at least 5 games)\n",
    "player_games = df.groupby('player').size()\n",
    "regular_players = player_games[player_games >= 5].index\n",
    "\n",
    "print(f\"Players with at least 5 appearances: {len(regular_players)}\")\n",
    "print(f\"Total unique players: {df['player'].nunique()}\")\n",
    "\n",
    "# Average minutes per game for regular players\n",
    "regular_df = df[df['player'].isin(regular_players)]\n",
    "player_avg_minutes = regular_df.groupby('player')['minutes'].agg(['mean', 'std', 'count']).sort_values('mean', ascending=False)\n",
    "\n",
    "print(\"\\nTop 15 Players by Average Minutes per Game:\")\n",
    "print(player_avg_minutes.head(15))\n",
    "\n",
    "# Visualize player consistency (average vs standard deviation)\n",
    "fig, axes = plt.subplots(1, 2, figsize=(18, 6))\n",
    "\n",
    "# Average minutes vs consistency (std dev)\n",
    "axes[0].scatter(player_avg_minutes['mean'], player_avg_minutes['std'], \n",
    "                s=player_avg_minutes['count']*10, alpha=0.6)\n",
    "axes[0].set_xlabel('Average Minutes per Game')\n",
    "axes[0].set_ylabel('Standard Deviation of Minutes')\n",
    "axes[0].set_title('Player Consistency: Average Minutes vs Variability\\n(Bubble size = number of games)')\n",
    "axes[0].grid(True, alpha=0.3)\n",
    "\n",
    "# Performance vs minutes for regular players\n",
    "# Calculate average performance metrics per player\n",
    "player_performance = regular_df.groupby('player').agg({\n",
    "    'minutes': 'mean',\n",
    "    'xG': 'mean',\n",
    "    'xA': 'mean',\n",
    "    'bps': 'mean',\n",
    "    'goals': 'mean',\n",
    "    'assists': 'mean'\n",
    "}).reset_index()\n",
    "\n",
    "# Create a composite performance score\n",
    "player_performance['performance_score'] = (player_performance['xG'] + \n",
    "                                         player_performance['xA'] + \n",
    "                                         player_performance['bps']/10 +\n",
    "                                         player_performance['goals'] + \n",
    "                                         player_performance['assists'])\n",
    "\n",
    "axes[1].scatter(player_performance['performance_score'], player_performance['minutes'], \n",
    "                alpha=0.7, s=60)\n",
    "axes[1].set_xlabel('Composite Performance Score')\n",
    "axes[1].set_ylabel('Average Minutes per Game')\n",
    "axes[1].set_title('Player Performance vs Playing Time')\n",
    "axes[1].grid(True, alpha=0.3)\n",
    "\n",
    "# Add trend line\n",
    "z = np.polyfit(player_performance['performance_score'], player_performance['minutes'], 1)\n",
    "p = np.poly1d(z)\n",
    "axes[1].plot(player_performance['performance_score'], \n",
    "             p(player_performance['performance_score']), \"r--\", alpha=0.8)\n",
    "\n",
    "corr_perf_min = player_performance['performance_score'].corr(player_performance['minutes'])\n",
    "axes[1].text(0.05, 0.95, f'r = {corr_perf_min:.3f}', \n",
    "             transform=axes[1].transAxes, \n",
    "             bbox=dict(boxstyle='round', facecolor='white', alpha=0.8))\n",
    "\n",
    "plt.tight_layout()\n",
    "plt.show()"
   ]
  },
  {
   "cell_type": "markdown",
   "id": "b5138fde",
   "metadata": {},
   "source": [
    "## Key Insights from Data Exploration\n",
    "\n",
    "### 1. Minutes Distribution\n",
    "- **High variability** in minutes played (0 to 90 minutes)\n",
    "- Significant number of games with **0 minutes** (players not selected/substituted)\n",
    "- Many complete **90-minute** performances\n",
    "\n",
    "### 2. Strongest Predictive Features\n",
    "Based on correlation analysis, the variables most correlated with minutes played are:\n",
    "- **BPS (Bonus Point System)**: Strong correlation with playing time\n",
    "- **Performance metrics** (xG, xA, goals, assists): Moderate correlation\n",
    "- **Expected Goals Conceded (xGC)**: Related to defensive playing time\n",
    "\n",
    "### 3. Contextual Factors\n",
    "- **Home vs Away**: Analyze if there are differences in playing patterns\n",
    "- **Injury/Suspension**: Clear impact on minutes (as expected)\n",
    "- **Weekly patterns**: Potential seasonal/fixture congestion effects\n",
    "\n",
    "### 4. Player-Specific Patterns\n",
    "- **Regular starters** vs **squad rotation players**\n",
    "- **Consistency** in playing time varies significantly between players\n",
    "- **Performance-playing time relationship** exists but varies by player role\n",
    "\n",
    "### 5. Modeling Considerations\n",
    "- **Zero-inflated data**: Many observations with 0 minutes\n",
    "- **Player-specific effects**: Individual player patterns matter\n",
    "- **Contextual variables**: Match context (opponent, home/away) may influence selection\n",
    "- **Performance feedback loop**: Better performance → more minutes → more opportunities for performance\n",
    "\n",
    "### Next Steps for Predictive Modeling\n",
    "1. **Feature engineering**: Create player-specific averages, rolling statistics\n",
    "2. **Model selection**: Consider models that handle zero-inflated data\n",
    "3. **Cross-validation**: Use time-based splits to respect temporal nature\n",
    "4. **Player clustering**: Group players by role/position for better predictions"
   ]
  }
 ],
 "metadata": {
  "kernelspec": {
   "display_name": "venv",
   "language": "python",
   "name": "python3"
  },
  "language_info": {
   "codemirror_mode": {
    "name": "ipython",
    "version": 3
   },
   "file_extension": ".py",
   "mimetype": "text/x-python",
   "name": "python",
   "nbconvert_exporter": "python",
   "pygments_lexer": "ipython3",
   "version": "3.12.4"
  }
 },
 "nbformat": 4,
 "nbformat_minor": 5
}

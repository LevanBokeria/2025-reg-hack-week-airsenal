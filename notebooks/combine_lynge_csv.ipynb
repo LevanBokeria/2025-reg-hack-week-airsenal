{
 "cells": [
  {
   "cell_type": "code",
   "execution_count": 1,
   "id": "0485ba3e",
   "metadata": {},
   "outputs": [],
   "source": [
    "import pandas as pd\n",
    "import os\n",
    "import glob"
   ]
  },
  {
   "cell_type": "code",
   "execution_count": 2,
   "id": "9c698ca0",
   "metadata": {},
   "outputs": [],
   "source": [
    "# Define the file mapping team names to shorthand names\n",
    "team_mapping_file = pd.read_csv('../data_from_airsenal/teams_2425.csv')\n",
    "\n",
    "# Turng the columns into a dictionary for easy lookup\n",
    "team_mapping_dict = dict(zip(team_mapping_file['full_name'], team_mapping_file['name']))"
   ]
  },
  {
   "cell_type": "code",
   "execution_count": 3,
   "id": "28276075",
   "metadata": {},
   "outputs": [
    {
     "data": {
      "text/plain": [
       "['/Users/lbokeria/Library/CloudStorage/OneDrive-TheAlanTuringInstitute/2025-REG-hack-week-airsenal/datasets/Player_Time/West Ham.csv',\n",
       " '/Users/lbokeria/Library/CloudStorage/OneDrive-TheAlanTuringInstitute/2025-REG-hack-week-airsenal/datasets/Player_Time/Bournemouth.csv',\n",
       " \"/Users/lbokeria/Library/CloudStorage/OneDrive-TheAlanTuringInstitute/2025-REG-hack-week-airsenal/datasets/Player_Time/Nott'm Forest.csv\",\n",
       " '/Users/lbokeria/Library/CloudStorage/OneDrive-TheAlanTuringInstitute/2025-REG-hack-week-airsenal/datasets/Player_Time/Newcastle.csv',\n",
       " '/Users/lbokeria/Library/CloudStorage/OneDrive-TheAlanTuringInstitute/2025-REG-hack-week-airsenal/datasets/Player_Time/Wolves.csv',\n",
       " '/Users/lbokeria/Library/CloudStorage/OneDrive-TheAlanTuringInstitute/2025-REG-hack-week-airsenal/datasets/Player_Time/Crystal Palace.csv',\n",
       " '/Users/lbokeria/Library/CloudStorage/OneDrive-TheAlanTuringInstitute/2025-REG-hack-week-airsenal/datasets/Player_Time/Fulham.csv',\n",
       " '/Users/lbokeria/Library/CloudStorage/OneDrive-TheAlanTuringInstitute/2025-REG-hack-week-airsenal/datasets/Player_Time/Liverpool.csv',\n",
       " '/Users/lbokeria/Library/CloudStorage/OneDrive-TheAlanTuringInstitute/2025-REG-hack-week-airsenal/datasets/Player_Time/Southampton.csv',\n",
       " '/Users/lbokeria/Library/CloudStorage/OneDrive-TheAlanTuringInstitute/2025-REG-hack-week-airsenal/datasets/Player_Time/Chelsea.csv',\n",
       " '/Users/lbokeria/Library/CloudStorage/OneDrive-TheAlanTuringInstitute/2025-REG-hack-week-airsenal/datasets/Player_Time/Aston Villa.csv',\n",
       " '/Users/lbokeria/Library/CloudStorage/OneDrive-TheAlanTuringInstitute/2025-REG-hack-week-airsenal/datasets/Player_Time/Brentford.csv',\n",
       " '/Users/lbokeria/Library/CloudStorage/OneDrive-TheAlanTuringInstitute/2025-REG-hack-week-airsenal/datasets/Player_Time/Ipswich.csv',\n",
       " '/Users/lbokeria/Library/CloudStorage/OneDrive-TheAlanTuringInstitute/2025-REG-hack-week-airsenal/datasets/Player_Time/Brighton.csv',\n",
       " '/Users/lbokeria/Library/CloudStorage/OneDrive-TheAlanTuringInstitute/2025-REG-hack-week-airsenal/datasets/Player_Time/Man Utd.csv',\n",
       " '/Users/lbokeria/Library/CloudStorage/OneDrive-TheAlanTuringInstitute/2025-REG-hack-week-airsenal/datasets/Player_Time/Leicester.csv',\n",
       " '/Users/lbokeria/Library/CloudStorage/OneDrive-TheAlanTuringInstitute/2025-REG-hack-week-airsenal/datasets/Player_Time/Man City.csv',\n",
       " '/Users/lbokeria/Library/CloudStorage/OneDrive-TheAlanTuringInstitute/2025-REG-hack-week-airsenal/datasets/Player_Time/Spurs.csv',\n",
       " '/Users/lbokeria/Library/CloudStorage/OneDrive-TheAlanTuringInstitute/2025-REG-hack-week-airsenal/datasets/Player_Time/Arsenal.csv',\n",
       " '/Users/lbokeria/Library/CloudStorage/OneDrive-TheAlanTuringInstitute/2025-REG-hack-week-airsenal/datasets/Player_Time/Everton.csv']"
      ]
     },
     "execution_count": 3,
     "metadata": {},
     "output_type": "execute_result"
    }
   ],
   "source": [
    "csv_loc = \"/Users/lbokeria/Library/CloudStorage/OneDrive-TheAlanTuringInstitute/2025-REG-hack-week-airsenal/datasets/Player_Time\"\n",
    "\n",
    "# Get all CSV files in the directory using glob\n",
    "csv_files = glob.glob(os.path.join(csv_loc, \"*.csv\"))\n",
    "csv_files"
   ]
  },
  {
   "cell_type": "code",
   "execution_count": 4,
   "id": "90ff914e",
   "metadata": {},
   "outputs": [
    {
     "name": "stdout",
     "output_type": "stream",
     "text": [
      "West Ham\n",
      "WHU\n",
      "Bournemouth\n",
      "BOU\n",
      "Nott'm Forest\n",
      "NFO\n",
      "Newcastle\n",
      "NEW\n",
      "Wolves\n",
      "WOL\n",
      "Crystal Palace\n",
      "CRY\n",
      "Fulham\n",
      "FUL\n",
      "Liverpool\n",
      "LIV\n",
      "Southampton\n",
      "SOU\n",
      "Chelsea\n",
      "CHE\n",
      "Aston Villa\n",
      "AVL\n",
      "Brentford\n",
      "BRE\n",
      "Ipswich\n",
      "IPS\n",
      "Brighton\n",
      "BHA\n",
      "Man Utd\n",
      "MUN\n",
      "Leicester\n",
      "LEI\n",
      "Man City\n",
      "MCI\n",
      "Spurs\n",
      "TOT\n",
      "Arsenal\n",
      "ARS\n",
      "Everton\n",
      "EVE\n"
     ]
    }
   ],
   "source": [
    "# Create an empty DataFrame to store the combined data\n",
    "combined_df = pd.DataFrame()\n",
    "\n",
    "for file in csv_files:\n",
    "    # Read the CSV file into a DataFrame\n",
    "    df = pd.read_csv(file)\n",
    "\n",
    "    # Extract the filename without the extension\n",
    "    filename = os.path.splitext(os.path.basename(file))[0]\n",
    "\n",
    "    print(filename)\n",
    "\n",
    "    # Add a new column with the filename\n",
    "    df['filename'] = filename\n",
    "    # Map the team names to their shorthand names\n",
    "    team_name_shorthand = team_mapping_dict.get(filename)\n",
    "\n",
    "    print(team_name_shorthand)\n",
    "\n",
    "    # Add a new column with the team shorthand name\n",
    "    df['team'] = team_name_shorthand\n",
    "\n",
    "    # Change the first column name to \"weel\"\n",
    "    df.rename(columns={df.columns[0]: 'week'}, inplace=True)\n",
    "    # Add 1 to the 'week' column\n",
    "    df['week'] = df['week'] + 1\n",
    "\n",
    "    # Turn the dataframe into a long format\n",
    "    df_long = pd.melt(df, id_vars=['week','vs','loc','filename','team'], var_name='player', value_name='minutes_played')\n",
    "\n",
    "    # Add season column \n",
    "    df_long['season'] = '2425'\n",
    "\n",
    "    # Append the long format DataFrame to the combined DataFrame\n",
    "    combined_df = pd.concat([combined_df, df_long], ignore_index=True)\n",
    "\n",
    "# Save the combined DataFrame to a new CSV file\n",
    "output_file = os.path.join('../outputs/', \"combined_player_time.csv\")\n",
    "combined_df.to_csv(output_file, index=False)"
   ]
  }
 ],
 "metadata": {
  "kernelspec": {
   "display_name": "venv",
   "language": "python",
   "name": "python3"
  },
  "language_info": {
   "codemirror_mode": {
    "name": "ipython",
    "version": 3
   },
   "file_extension": ".py",
   "mimetype": "text/x-python",
   "name": "python",
   "nbconvert_exporter": "python",
   "pygments_lexer": "ipython3",
   "version": "3.12.4"
  }
 },
 "nbformat": 4,
 "nbformat_minor": 5
}

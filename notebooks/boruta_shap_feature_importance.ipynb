{
 "cells": [
  {
   "cell_type": "markdown",
   "id": "432bb4e0",
   "metadata": {},
   "source": [
    "# Feature importance \n",
    "\n",
    "from https://www.kaggle.com/code/carlmcbrideellis/feature-selection-using-the-boruta-shap-package"
   ]
  },
  {
   "cell_type": "code",
   "execution_count": null,
   "id": "b152ce68",
   "metadata": {
    "vscode": {
     "languageId": "plaintext"
    }
   },
   "outputs": [],
   "source": [
    "import pandas  as pd\n",
    "\n",
    "#===========================================================================\n",
    "# read in the House Prices data\n",
    "#===========================================================================\n",
    "train_data = pd.read_csv('../datasets/house-prices-advanced-regression-techniques/train.csv')\n",
    "test_data  = pd.read_csv('../datasets/house-prices-advanced-regression-techniques/test.csv')\n",
    "\n",
    "#===========================================================================\n",
    "# select some features (These are all 'integer' fields for today).\n",
    "#===========================================================================\n",
    "features = ['LotArea', 'OverallQual', 'OverallCond', 'YearBuilt', \n",
    "            'YearRemodAdd', 'BsmtFinSF1', 'BsmtFinSF2', 'TotalBsmtSF', \n",
    "            '1stFlrSF', 'LowQualFinSF', 'GrLivArea', 'BsmtFullBath', \n",
    "            'BsmtHalfBath', 'HalfBath', 'BedroomAbvGr',  'Fireplaces', \n",
    "            'GarageCars', 'GarageArea', 'WoodDeckSF', 'OpenPorchSF', \n",
    "            'EnclosedPorch',  'PoolArea', 'YrSold']\n",
    "\n",
    "#===========================================================================\n",
    "#===========================================================================\n",
    "X_train       = train_data[features]\n",
    "y_train       = train_data[\"SalePrice\"]"
   ]
  }
 ],
 "metadata": {
  "language_info": {
   "name": "python"
  }
 },
 "nbformat": 4,
 "nbformat_minor": 5
}

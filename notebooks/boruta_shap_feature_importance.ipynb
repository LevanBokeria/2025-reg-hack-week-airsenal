{
 "cells": [
  {
   "cell_type": "markdown",
   "id": "432bb4e0",
   "metadata": {},
   "source": [
    "# Feature importance \n",
    "\n",
    "from https://www.kaggle.com/code/carlmcbrideellis/feature-selection-using-the-boruta-shap-package"
   ]
  },
  {
   "cell_type": "code",
   "execution_count": 1,
   "id": "b152ce68",
   "metadata": {},
   "outputs": [],
   "source": [
    "import pandas  as pd\n",
    "\n",
    "#===========================================================================\n",
    "# read in the House Prices data\n",
    "#===========================================================================\n",
    "train_data = pd.read_csv('../datasets/house-prices-advanced-regression-techniques/train.csv')\n",
    "test_data  = pd.read_csv('../datasets/house-prices-advanced-regression-techniques/test.csv')\n",
    "\n",
    "#===========================================================================\n",
    "# select some features (These are all 'integer' fields for today).\n",
    "#===========================================================================\n",
    "features = ['LotArea', 'OverallQual', 'OverallCond', 'YearBuilt', \n",
    "            'YearRemodAdd', 'BsmtFinSF1', 'BsmtFinSF2', 'TotalBsmtSF', \n",
    "            '1stFlrSF', 'LowQualFinSF', 'GrLivArea', 'BsmtFullBath', \n",
    "            'BsmtHalfBath', 'HalfBath', 'BedroomAbvGr',  'Fireplaces', \n",
    "            'GarageCars', 'GarageArea', 'WoodDeckSF', 'OpenPorchSF', \n",
    "            'EnclosedPorch',  'PoolArea', 'YrSold']\n",
    "\n",
    "#===========================================================================\n",
    "#===========================================================================\n",
    "X_train       = train_data[features]\n",
    "y_train       = train_data[\"SalePrice\"]"
   ]
  },
  {
   "cell_type": "code",
   "execution_count": null,
   "id": "e9940381",
   "metadata": {},
   "outputs": [
    {
     "ename": "ImportError",
     "evalue": "cannot import name 'binom_test' from 'scipy.stats' (/Users/lbokeria/projects/2025reghackweek/2025-reg-hack-week-airsenal/venv/lib/python3.12/site-packages/scipy/stats/__init__.py)",
     "output_type": "error",
     "traceback": [
      "\u001b[31m---------------------------------------------------------------------------\u001b[39m",
      "\u001b[31mImportError\u001b[39m                               Traceback (most recent call last)",
      "\u001b[36mCell\u001b[39m\u001b[36m \u001b[39m\u001b[32mIn[3]\u001b[39m\u001b[32m, line 1\u001b[39m\n\u001b[32m----> \u001b[39m\u001b[32m1\u001b[39m \u001b[38;5;28;01mfrom\u001b[39;00m\u001b[38;5;250m \u001b[39m\u001b[34;01mBorutaShap\u001b[39;00m\u001b[38;5;250m \u001b[39m\u001b[38;5;28;01mimport\u001b[39;00m BorutaShap\n\u001b[32m      3\u001b[39m \u001b[38;5;66;03m# If no model is selected default is the Random Forest\u001b[39;00m\n\u001b[32m      4\u001b[39m \u001b[38;5;66;03m# If classification is True it is a classification problem\u001b[39;00m\n\u001b[32m      5\u001b[39m Feature_Selector = BorutaShap(importance_measure=\u001b[33m'\u001b[39m\u001b[33mshap\u001b[39m\u001b[33m'\u001b[39m, classification=\u001b[38;5;28;01mFalse\u001b[39;00m)\n",
      "\u001b[36mFile \u001b[39m\u001b[32m~/projects/2025reghackweek/2025-reg-hack-week-airsenal/venv/lib/python3.12/site-packages/BorutaShap.py:9\u001b[39m\n\u001b[32m      7\u001b[39m \u001b[38;5;28;01mfrom\u001b[39;00m\u001b[38;5;250m \u001b[39m\u001b[34;01msklearn\u001b[39;00m\u001b[34;01m.\u001b[39;00m\u001b[34;01minspection\u001b[39;00m\u001b[38;5;250m \u001b[39m\u001b[38;5;28;01mimport\u001b[39;00m permutation_importance\n\u001b[32m      8\u001b[39m \u001b[38;5;28;01mfrom\u001b[39;00m\u001b[38;5;250m \u001b[39m\u001b[34;01mscipy\u001b[39;00m\u001b[34;01m.\u001b[39;00m\u001b[34;01msparse\u001b[39;00m\u001b[38;5;250m \u001b[39m\u001b[38;5;28;01mimport\u001b[39;00m issparse\n\u001b[32m----> \u001b[39m\u001b[32m9\u001b[39m \u001b[38;5;28;01mfrom\u001b[39;00m\u001b[38;5;250m \u001b[39m\u001b[34;01mscipy\u001b[39;00m\u001b[34;01m.\u001b[39;00m\u001b[34;01mstats\u001b[39;00m\u001b[38;5;250m \u001b[39m\u001b[38;5;28;01mimport\u001b[39;00m binom_test, ks_2samp\n\u001b[32m     10\u001b[39m \u001b[38;5;28;01mimport\u001b[39;00m\u001b[38;5;250m \u001b[39m\u001b[34;01mmatplotlib\u001b[39;00m\u001b[34;01m.\u001b[39;00m\u001b[34;01mpyplot\u001b[39;00m\u001b[38;5;250m \u001b[39m\u001b[38;5;28;01mas\u001b[39;00m\u001b[38;5;250m \u001b[39m\u001b[34;01mplt\u001b[39;00m\n\u001b[32m     11\u001b[39m \u001b[38;5;28;01mfrom\u001b[39;00m\u001b[38;5;250m \u001b[39m\u001b[34;01mtqdm\u001b[39;00m\u001b[34;01m.\u001b[39;00m\u001b[34;01mauto\u001b[39;00m\u001b[38;5;250m \u001b[39m\u001b[38;5;28;01mimport\u001b[39;00m tqdm\n",
      "\u001b[31mImportError\u001b[39m: cannot import name 'binom_test' from 'scipy.stats' (/Users/lbokeria/projects/2025reghackweek/2025-reg-hack-week-airsenal/venv/lib/python3.12/site-packages/scipy/stats/__init__.py)"
     ]
    }
   ],
   "source": [
    "from BorutaShap import BorutaShap\n",
    "\n",
    "# If no model is selected default is the Random Forest\n",
    "# If classification is True it is a classification problem\n",
    "Feature_Selector = BorutaShap(importance_measure='shap', classification=False)\n",
    "\n",
    "Feature_Selector.fit(X=X_train, y=y_train, n_trials=50, random_state=0)"
   ]
  }
 ],
 "metadata": {
  "kernelspec": {
   "display_name": "venv",
   "language": "python",
   "name": "python3"
  },
  "language_info": {
   "codemirror_mode": {
    "name": "ipython",
    "version": 3
   },
   "file_extension": ".py",
   "mimetype": "text/x-python",
   "name": "python",
   "nbconvert_exporter": "python",
   "pygments_lexer": "ipython3",
   "version": "3.12.4"
  }
 },
 "nbformat": 4,
 "nbformat_minor": 5
}

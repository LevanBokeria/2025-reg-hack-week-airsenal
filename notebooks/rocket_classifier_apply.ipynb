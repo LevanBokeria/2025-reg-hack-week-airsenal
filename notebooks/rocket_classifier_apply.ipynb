{
 "cells": [
  {
   "cell_type": "code",
   "execution_count": 1,
   "id": "95d0ebd8",
   "metadata": {},
   "outputs": [],
   "source": [
    "import pandas as pd\n",
    "import numpy as np\n",
    "import os\n",
    "import matplotlib.pyplot as plt\n",
    "import plotly.express as px\n",
    "# set numpy seed\n",
    "np.random.seed(42)\n",
    "\n",
    "import matplotlib.pyplot as plt\n",
    "import seaborn as sns\n",
    "from sklearn.metrics import confusion_matrix, classification_report\n",
    "from sktime.classification.kernel_based import RocketClassifier\n",
    "from sktime.datasets import load_arrow_head  # Example dataset\n",
    "\n",
    "from utils import filter_zero_min_players"
   ]
  },
  {
   "cell_type": "code",
   "execution_count": 2,
   "id": "287caa88",
   "metadata": {},
   "outputs": [],
   "source": [
    "# Load the combined data\n",
    "csv_path = ('../datasets/black_dataframe/player_minutes_with_extra_columns_2425.csv')\n",
    "\n",
    "df = pd.read_csv(csv_path)"
   ]
  },
  {
   "cell_type": "code",
   "execution_count": 3,
   "id": "2d683b58",
   "metadata": {},
   "outputs": [],
   "source": [
    "df = filter_zero_min_players(df)"
   ]
  },
  {
   "cell_type": "code",
   "execution_count": 4,
   "id": "8e85d57c",
   "metadata": {},
   "outputs": [],
   "source": [
    "# Get number of players per team using groupby\n",
    "team_counts = df.groupby('team')['player'].nunique().reset_index()\n",
    "\n",
    "# Get the max value\n",
    "max_players = team_counts['player'].max()"
   ]
  },
  {
   "cell_type": "code",
   "execution_count": 5,
   "id": "b7a4a1e5",
   "metadata": {},
   "outputs": [],
   "source": [
    "# Create an empty array to populate of shape (n, 38-TIME_SERIES_LENGTH, TIME_SERIES_LENGTH, N_PLAYERS)\n",
    "N_PLAYERS = max_players # Max number of players for a team\n",
    "TIME_SERIES_LENGTH = 7 # Number of previous weeks + current week\n",
    "\n",
    "all_data_arr = np.zeros((len(df.team.unique()), 39-TIME_SERIES_LENGTH, TIME_SERIES_LENGTH, N_PLAYERS))\n",
    "\n",
    "TEAMS = df.team.unique()\n",
    "\n",
    "for i, team in enumerate(TEAMS):\n",
    "    team_data = df[df['team'] == team]\n",
    "    PLAYERS = team_data['player'].unique()\n",
    "\n",
    "    for j, player in enumerate(PLAYERS):\n",
    "\n",
    "        # Get the data for the specific team and player\n",
    "        player_data = df[(df['team'] == team) & (df['player'] == player)]\n",
    "\n",
    "        # Sort by week and reset index\n",
    "        player_data = player_data.sort_values('week').reset_index(drop=True)\n",
    "\n",
    "        # Extract the minutes played\n",
    "        minutes_played = player_data['minutes'].to_numpy()\n",
    "\n",
    "        # Split into chunks of 6 weeks\n",
    "        for k in range(0, len(minutes_played) - TIME_SERIES_LENGTH + 1):\n",
    "            chunk = minutes_played[k:k + TIME_SERIES_LENGTH]\n",
    "            if len(chunk) == TIME_SERIES_LENGTH:\n",
    "                all_data_arr[i, k, :, j] = chunk"
   ]
  },
  {
   "cell_type": "code",
   "execution_count": 6,
   "id": "412b1ad6",
   "metadata": {},
   "outputs": [],
   "source": [
    "# Flatten the first dimension of all_data_arr\n",
    "all_data_arr = all_data_arr.reshape(-1, all_data_arr.shape[2])"
   ]
  },
  {
   "cell_type": "code",
   "execution_count": 7,
   "id": "415bc60f",
   "metadata": {},
   "outputs": [],
   "source": [
    "X = all_data_arr[:, :-1]  # All but the last week\n",
    "y = all_data_arr[:, -1]   # The last week"
   ]
  },
  {
   "cell_type": "code",
   "execution_count": 8,
   "id": "751c266b",
   "metadata": {},
   "outputs": [],
   "source": [
    "# Turn y into a multiclass classification problem with 3 classes: 0, 1-60, 61-90\n",
    "y_dig = y.copy()\n",
    "y_dig[y_dig < 1] = 0\n",
    "y_dig[(y_dig >= 1) & (y_dig <= 60)] = 1\n",
    "y_dig[y_dig > 60] = 2"
   ]
  },
  {
   "cell_type": "code",
   "execution_count": 9,
   "id": "897b29cb",
   "metadata": {},
   "outputs": [
    {
     "name": "stderr",
     "output_type": "stream",
     "text": [
      "/var/folders/rc/594kgpld1czfpr55m3_m1szw0000gr/T/ipykernel_67571/2848956793.py:3: FutureWarning: \n",
      "\n",
      "Passing `palette` without assigning `hue` is deprecated and will be removed in v0.14.0. Assign the `x` variable to `hue` and set `legend=False` for the same effect.\n",
      "\n",
      "  sns.countplot(x=y_dig, palette='viridis')\n"
     ]
    },
    {
     "data": {
      "image/png": "[encoded data removed]",
      "text/plain": [
       "<Figure size 1000x600 with 1 Axes>"
      ]
     },
     "metadata": {},
     "output_type": "display_data"
    }
   ],
   "source": [
    "# Plot the distribution of y_dig\n",
    "plt.figure(figsize=(10, 6))\n",
    "sns.countplot(x=y_dig, palette='viridis')\n",
    "plt.title('Distribution of Minutes Played (Digitized)')\n",
    "plt.xlabel('Minutes Played (Digitized)')\n",
    "plt.ylabel('Count')\n",
    "plt.xticks(ticks=[0, 1, 2], labels=['0', '1-60', '61+'])\n",
    "plt.show()"
   ]
  },
  {
   "cell_type": "code",
   "execution_count": 10,
   "id": "d61fe199",
   "metadata": {},
   "outputs": [],
   "source": [
    "# Turn y_dig into integers\n",
    "y_dig = y_dig.astype(int)"
   ]
  },
  {
   "cell_type": "code",
   "execution_count": 11,
   "id": "75408514",
   "metadata": {},
   "outputs": [],
   "source": [
    "# Split the dataset into training and testing sets with 80% training and 20% testing\n",
    "from sklearn.model_selection import train_test_split\n",
    "X_train, X_test, y_train, y_test = train_test_split(X, y_dig, test_size=0.2, random_state=42)"
   ]
  },
  {
   "cell_type": "code",
   "execution_count": 12,
   "id": "184a35be",
   "metadata": {},
   "outputs": [
    {
     "name": "stderr",
     "output_type": "stream",
     "text": [
      "OMP: Info #276: omp_set_nested routine deprecated, please use omp_set_max_active_levels instead.\n"
     ]
    },
    {
     "data": {
      "image/png": "[encoded data removed]",
      "text/plain": [
       "<Figure size 800x600 with 1 Axes>"
      ]
     },
     "metadata": {},
     "output_type": "display_data"
    },
    {
     "name": "stdout",
     "output_type": "stream",
     "text": [
      "Classification Report:\n",
      "               precision    recall  f1-score   support\n",
      "\n",
      "           0       0.60      0.93      0.73      2721\n",
      "           1       0.33      0.01      0.02       626\n",
      "           2       0.33      0.11      0.16      1261\n",
      "\n",
      "    accuracy                           0.58      4608\n",
      "   macro avg       0.42      0.35      0.30      4608\n",
      "weighted avg       0.49      0.58      0.48      4608\n",
      "\n"
     ]
    }
   ],
   "source": [
    "# Create and fit the ROCKET classifier\n",
    "clf = RocketClassifier(num_kernels=500)\n",
    "clf.fit(X_train, y_train)\n",
    "\n",
    "# Generate predictions on the test set\n",
    "y_pred = clf.predict(X_test)\n",
    "\n",
    "# Create a confusion matrix\n",
    "conf_matrix = confusion_matrix(y_test, y_pred)\n",
    "\n",
    "# Create a heatmap for the confusion matrix\n",
    "plt.figure(figsize=(8, 6))\n",
    "sns.heatmap(conf_matrix, annot=True, fmt='d', cmap='Blues', cbar=False)\n",
    "plt.xlabel('Predicted Labels')\n",
    "plt.ylabel('True Labels')\n",
    "plt.title('Confusion Matrix')\n",
    "plt.show()\n",
    "\n",
    "# Create a classification report\n",
    "class_report = classification_report(y_test, y_pred)\n",
    "\n",
    "# Print the classification report\n",
    "print(\"Classification Report:\\n\", class_report)"
   ]
  }
 ],
 "metadata": {
  "kernelspec": {
   "display_name": "venv",
   "language": "python",
   "name": "python3"
  },
  "language_info": {
   "codemirror_mode": {
    "name": "ipython",
    "version": 3
   },
   "file_extension": ".py",
   "mimetype": "text/x-python",
   "name": "python",
   "nbconvert_exporter": "python",
   "pygments_lexer": "ipython3",
   "version": "3.12.4"
  }
 },
 "nbformat": 4,
 "nbformat_minor": 5
}

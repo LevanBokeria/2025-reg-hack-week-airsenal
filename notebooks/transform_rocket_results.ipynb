{
 "cells": [
  {
   "cell_type": "code",
   "execution_count": null,
   "id": "274eff75",
   "metadata": {},
   "outputs": [],
   "source": [
    "import pandas as pd\n",
    "import numpy as np\n",
    "import os \n",
    "from pathlib import Path"
   ]
  },
  {
   "cell_type": "code",
   "execution_count": null,
   "id": "73f7ad53",
   "metadata": {},
   "outputs": [],
   "source": [
    "# results folder\n",
    "results_folder = '../outputs/rocket_experiments/20250612_120426'\n",
    "\n",
    "player_positions = ['FWD', 'MID', 'DEF', 'GK']\n",
    "\n",
    "# Load the player ids and dates\n",
    "val_file = '../datasets/validation_dictionary.pkl'\n",
    "print(f'Loading validation data from {val_file}')\n",
    "\n",
    "val_data = pd.read_pickle(val_file)\n",
    "\n",
    "# Load each pickle file\n",
    "dfs = []\n",
    "for position in player_positions:\n",
    "    file_path = f'{results_folder}/predictions_rocket_{position}.pkl'\n",
    "    df = pd.read_pickle(file_path)\n",
    "    df['position'] = position  # Add a column for the position\n",
    "    # Turn df into a DataFrame\n",
    "    df = pd.DataFrame(df)\n",
    "\n",
    "    df = df.rename(columns={'actual': 'minutes', 'predictions': 'predmin'})\n",
    "\n",
    "    i_val = val_data[position]\n",
    "\n",
    "    df['datetime'] = i_val['out_datetime']\n",
    "    df['player_id'] = i_val['out_player_id']\n",
    "\n",
    "    # Whats the model?\n",
    "    model = df['model'][0]\n",
    "\n",
    "    # Whats the dataset?\n",
    "    dataset = Path(df['train_dict_path'][0]).stem\n",
    "\n",
    "    df = df[['minutes', 'predmin', 'datetime', 'player_id']]\n",
    "\n",
    "    # Save the DataFrame as a csv file\n",
    "    df.to_csv(f'../results/{position}/Levan_{model}_on_{dataset}_{position}.csv', index=False)"
   ]
  },
  {
   "cell_type": "code",
   "execution_count": null,
   "id": "e5a827d4",
   "metadata": {},
   "outputs": [],
   "source": [
    "list(i_val.columns)"
   ]
  }
 ],
 "metadata": {
  "kernelspec": {
   "display_name": "venv",
   "language": "python",
   "name": "python3"
  },
  "language_info": {
   "codemirror_mode": {
    "name": "ipython",
    "version": 3
   },
   "file_extension": ".py",
   "mimetype": "text/x-python",
   "name": "python",
   "nbconvert_exporter": "python",
   "pygments_lexer": "ipython3",
   "version": "3.12.4"
  }
 },
 "nbformat": 4,
 "nbformat_minor": 5
}

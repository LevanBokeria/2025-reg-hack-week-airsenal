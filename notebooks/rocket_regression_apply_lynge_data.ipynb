{
 "cells": [
  {
   "cell_type": "code",
   "execution_count": null,
   "id": "95d0ebd8",
   "metadata": {},
   "outputs": [],
   "source": [
    "import pandas as pd\n",
    "import numpy as np\n",
    "import matplotlib.pyplot as plt\n",
    "np.random.seed(42)\n",
    "\n",
    "from utils import filter_zero_min_players\n",
    "\n",
    "from sktime.regression.kernel_based import RocketRegressor\n",
    "from sktime.datasets import load_unit_test\n",
    "\n",
    "import pickle"
   ]
  },
  {
   "cell_type": "code",
   "execution_count": null,
   "id": "a4718b7f",
   "metadata": {},
   "outputs": [],
   "source": [
    "with open('../datasets/training_dictionary.pkl', 'rb') as f:\n",
    "    train_dict = pickle.load(f)\n",
    "\n",
    "with open('../datasets/validation_dictionary.pkl', 'rb') as f:\n",
    "    val_dict = pickle.load(f)"
   ]
  },
  {
   "cell_type": "code",
   "execution_count": null,
   "id": "9bce42eb",
   "metadata": {},
   "outputs": [],
   "source": [
    "train = train_dict['MID']\n",
    "val = val_dict['MID']"
   ]
  },
  {
   "cell_type": "code",
   "execution_count": null,
   "id": "7fecafc6",
   "metadata": {},
   "outputs": [],
   "source": [
    "# Select relevant columns\n",
    "train = train[['minutes_0', 'minutes_1', 'minutes_2', 'minutes_3','out',]]\n",
    "val   = val[['minutes_0', 'minutes_1', 'minutes_2', 'minutes_3','out',]]"
   ]
  },
  {
   "cell_type": "code",
   "execution_count": null,
   "id": "08dc7bbf",
   "metadata": {},
   "outputs": [],
   "source": [
    "# Define X_train as first four columns and y_train as the last column\n",
    "X_train = train.iloc[:, :-1]\n",
    "y_train = train.iloc[:, -1]\n",
    "\n",
    "X_val = val.iloc[:, :-1]\n",
    "y_val = val.iloc[:, -1]"
   ]
  },
  {
   "cell_type": "code",
   "execution_count": null,
   "id": "16f8b3bc",
   "metadata": {},
   "outputs": [],
   "source": [
    "# Turn X_train into a 2D array\n",
    "X_train_array = X_train.values.reshape(X_train.shape[0], X_train.shape[1], 1)\n",
    "X_val_array   = X_val.values.reshape(X_val.shape[0], X_val.shape[1], 1)"
   ]
  },
  {
   "cell_type": "code",
   "execution_count": null,
   "id": "a13e29ae",
   "metadata": {},
   "outputs": [],
   "source": [
    "# Now fit the regressor\n",
    "reg = RocketRegressor() \n",
    "reg.fit(X_train_array, y_train)\n",
    "\n",
    "y_pred = reg.predict(X_val_array)"
   ]
  },
  {
   "cell_type": "code",
   "execution_count": null,
   "id": "83cb9c8b",
   "metadata": {},
   "outputs": [],
   "source": []
  },
  {
   "cell_type": "code",
   "execution_count": null,
   "id": "6e4225b0",
   "metadata": {},
   "outputs": [],
   "source": [
    "# Calculate RMSE\n",
    "from sklearn.metrics import mean_squared_error\n",
    "\n",
    "rmse_rocket = np.sqrt(mean_squared_error(y_val, y_pred_rocket))\n",
    "print(f\"RMSE Rocket: {rmse_rocket}\")"
   ]
  }
 ],
 "metadata": {
  "kernelspec": {
   "display_name": "venv",
   "language": "python",
   "name": "python3"
  },
  "language_info": {
   "codemirror_mode": {
    "name": "ipython",
    "version": 3
   },
   "file_extension": ".py",
   "mimetype": "text/x-python",
   "name": "python",
   "nbconvert_exporter": "python",
   "pygments_lexer": "ipython3",
   "version": "3.12.4"
  }
 },
 "nbformat": 4,
 "nbformat_minor": 5
}

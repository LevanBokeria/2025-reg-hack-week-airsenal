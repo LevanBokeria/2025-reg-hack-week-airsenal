{
 "cells": [
  {
   "cell_type": "code",
   "execution_count": 1,
   "id": "95d0ebd8",
   "metadata": {},
   "outputs": [],
   "source": [
    "import pandas as pd\n",
    "import numpy as np\n",
    "import matplotlib.pyplot as plt\n",
    "np.random.seed(42)\n",
    "\n",
    "from utils import filter_zero_min_players\n",
    "\n",
    "from sktime.regression.kernel_based import RocketRegressor\n",
    "from sktime.datasets import load_unit_test\n",
    "\n",
    "import pickle"
   ]
  },
  {
   "cell_type": "code",
   "execution_count": 2,
   "id": "a4718b7f",
   "metadata": {},
   "outputs": [],
   "source": [
    "with open('../datasets/training_dictionary.pkl', 'rb') as f:\n",
    "    train_dict = pickle.load(f)\n",
    "\n",
    "with open('../datasets/validation_dictionary.pkl', 'rb') as f:\n",
    "    val_dict = pickle.load(f)"
   ]
  },
  {
   "cell_type": "code",
   "execution_count": 3,
   "id": "9bce42eb",
   "metadata": {},
   "outputs": [],
   "source": [
    "train_fwd = train_dict['MID']\n",
    "val_fwd = val_dict['MID']"
   ]
  },
  {
   "cell_type": "code",
   "execution_count": null,
   "id": "7fecafc6",
   "metadata": {},
   "outputs": [],
   "source": [
    "# Select relevant columns\n",
    "train_fwd = train_fwd[['minutes_0', 'minutes_1', 'minutes_2', 'minutes_3','out',]]\n",
    "val_fwd   = val_fwd[['minutes_0', 'minutes_1', 'minutes_2', 'minutes_3','out',]]"
   ]
  },
  {
   "cell_type": "code",
   "execution_count": null,
   "id": "a4d06533",
   "metadata": {},
   "outputs": [],
   "source": [
    "X_train = np.empty((len(train_fwd)), dtype=object) \n",
    "y_train = np.empty((len(train_fwd)), dtype=object)  \n",
    "\n",
    "# Turn into something rocket can use\n",
    "for i, irow in train_fwd.iterrows():\n",
    "    X_train[i] = pd.Series(irow[:-1]).values\n",
    "    y_train[i] = irow['out']"
   ]
  },
  {
   "cell_type": "code",
   "execution_count": null,
   "id": "02f2b63e",
   "metadata": {},
   "outputs": [],
   "source": [
    "X_val = np.empty((len(val_fwd)), dtype=object) \n",
    "y_val = np.empty((len(val_fwd)), dtype=object)  \n",
    "\n",
    "# Turn into something rocket can use\n",
    "for i, irow in val_fwd.iterrows():\n",
    "    X_val[i] = pd.Series(irow[:-1]).values\n",
    "    y_val[i] = irow['out']"
   ]
  },
  {
   "cell_type": "code",
   "execution_count": null,
   "id": "2f5e3e8c",
   "metadata": {},
   "outputs": [],
   "source": [
    "X_train = pd.DataFrame(X_train, columns=['dim_0'])"
   ]
  },
  {
   "cell_type": "code",
   "execution_count": null,
   "id": "3b22dc51",
   "metadata": {},
   "outputs": [],
   "source": [
    "X_train_array = np.array([x for x in X_train['dim_0']])\n",
    "\n",
    "X_val_array = np.array([x for x in X_val])\n",
    "\n",
    "# Convert y_train and y_val to numpy arrays\n",
    "y_train_array = np.array(y_train, dtype=float)\n",
    "y_val_array = np.array(y_val, dtype=float)"
   ]
  },
  {
   "cell_type": "code",
   "execution_count": null,
   "id": "a13e29ae",
   "metadata": {},
   "outputs": [],
   "source": [
    "# Now fit the regressor\n",
    "reg = RocketRegressor() \n",
    "reg.fit(X_train_array, y_train_array)"
   ]
  },
  {
   "cell_type": "code",
   "execution_count": null,
   "id": "83cb9c8b",
   "metadata": {},
   "outputs": [],
   "source": [
    "y_pred_rocket = reg.predict(X_val_array)"
   ]
  },
  {
   "cell_type": "code",
   "execution_count": null,
   "id": "6e4225b0",
   "metadata": {},
   "outputs": [],
   "source": [
    "# Calculate RMSE\n",
    "from sklearn.metrics import mean_squared_error\n",
    "\n",
    "rmse_rocket = np.sqrt(mean_squared_error(y_val, y_pred_rocket))\n",
    "print(f\"RMSE Rocket: {rmse_rocket}\")"
   ]
  }
 ],
 "metadata": {
  "kernelspec": {
   "display_name": "venv",
   "language": "python",
   "name": "python3"
  },
  "language_info": {
   "codemirror_mode": {
    "name": "ipython",
    "version": 3
   },
   "file_extension": ".py",
   "mimetype": "text/x-python",
   "name": "python",
   "nbconvert_exporter": "python",
   "pygments_lexer": "ipython3",
   "version": "3.12.4"
  }
 },
 "nbformat": 4,
 "nbformat_minor": 5
}

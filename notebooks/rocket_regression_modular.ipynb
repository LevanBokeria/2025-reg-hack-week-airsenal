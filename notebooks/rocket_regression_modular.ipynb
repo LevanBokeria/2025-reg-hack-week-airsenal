{
 "cells": [
  {
   "cell_type": "code",
   "execution_count": 2,
   "id": "95d0ebd8",
   "metadata": {},
   "outputs": [],
   "source": [
    "import pandas as pd\n",
    "import numpy as np\n",
    "import matplotlib.pyplot as plt\n",
    "np.random.seed(42)\n",
    "\n",
    "from sktime.regression.kernel_based import RocketRegressor\n",
    "import pickle\n",
    "\n",
    "from apply_rocket import apply_rocket\n",
    "from sklearn.metrics import mean_absolute_error, root_mean_squared_error"
   ]
  },
  {
   "cell_type": "code",
   "execution_count": 3,
   "id": "a4718b7f",
   "metadata": {},
   "outputs": [],
   "source": [
    "with open('../datasets/training_dictionary.pkl', 'rb') as f:\n",
    "    train_dict = pickle.load(f)\n",
    "\n",
    "with open('../datasets/validation_dictionary.pkl', 'rb') as f:\n",
    "    val_dict = pickle.load(f)"
   ]
  },
  {
   "cell_type": "code",
   "execution_count": null,
   "id": "41d288f1",
   "metadata": {},
   "outputs": [
    {
     "name": "stderr",
     "output_type": "stream",
     "text": [
      "OMP: Info #276: omp_set_nested routine deprecated, please use omp_set_max_active_levels instead.\n"
     ]
    },
    {
     "name": "stdout",
     "output_type": "stream",
     "text": [
      "Generating kernels with lengths: [ 7  9 11]\n",
      "RMSE FWD: 33.93719973956141\n",
      "MSE FWD: 29.584283959902134\n"
     ]
    }
   ],
   "source": [
    "i_position = 'FWD'\n",
    "y_pred, y_val = apply_rocket(train_dict, val_dict, position=i_position, rocket_model='rocket')\n",
    "\n",
    "mae = mean_absolute_error(y_val, y_pred)\n",
    "rMAE = root_mean_squared_error(y_val, y_pred)\n",
    "print(f'RMSE {i_position}: {rMAE}')\n",
    "print(f'MAE {i_position}: {mae}')"
   ]
  },
  {
   "cell_type": "code",
   "execution_count": null,
   "id": "0c28185e",
   "metadata": {},
   "outputs": [
    {
     "name": "stdout",
     "output_type": "stream",
     "text": [
      "Generating kernels with lengths: [ 7  9 11]\n",
      "RMSE GK: 39.76132919563875\n",
      "MSE GK: 35.175467379520825\n"
     ]
    }
   ],
   "source": [
    "i_position = 'GK'\n",
    "y_pred, y_val = apply_rocket(train_dict, val_dict, position=i_position, rocket_model='rocket')\n",
    "\n",
    "mae = mean_absolute_error(y_val, y_pred)\n",
    "rmse = root_mean_squared_error(y_val, y_pred)\n",
    "print(f'RMSE {i_position}: {rmse}')\n",
    "print(f'MAE {i_position}: {mae}')"
   ]
  },
  {
   "cell_type": "code",
   "execution_count": null,
   "id": "994049aa",
   "metadata": {},
   "outputs": [
    {
     "name": "stdout",
     "output_type": "stream",
     "text": [
      "Generating kernels with lengths: [ 7  9 11]\n"
     ]
    }
   ],
   "source": [
    "i_position = 'MID'\n",
    "y_pred, y_val = apply_rocket(train_dict, val_dict, position=i_position, rocket_model='rocket')\n",
    "\n",
    "mae = mean_absolute_error(y_val, y_pred)\n",
    "rmse = root_mean_squared_error(y_val, y_pred)\n",
    "print(f'RMSE {i_position}: {rmse}')\n",
    "print(f'MAE {i_position}: {mae}')"
   ]
  },
  {
   "cell_type": "code",
   "execution_count": null,
   "id": "f3d765a3",
   "metadata": {},
   "outputs": [
    {
     "name": "stderr",
     "output_type": "stream",
     "text": [
      "OMP: Info #276: omp_set_nested routine deprecated, please use omp_set_max_active_levels instead.\n"
     ]
    },
    {
     "name": "stdout",
     "output_type": "stream",
     "text": [
      "Generating kernels with lengths: [ 7  9 11]\n",
      "RMSE DEF: 40.639959605935594\n",
      "MSE DEF: 38.855616865053236\n"
     ]
    }
   ],
   "source": [
    "i_position = 'DEF'\n",
    "y_pred, y_val = apply_rocket(train_dict, val_dict, position=i_position, rocket_model='rocket')\n",
    "\n",
    "mae = mean_absolute_error(y_val, y_pred)\n",
    "rmse = root_mean_squared_error(y_val, y_pred)\n",
    "print(f'RMSE {i_position}: {rmse}')\n",
    "print(f'MAE {i_position}: {mae}')"
   ]
  }
 ],
 "metadata": {
  "kernelspec": {
   "display_name": "venv",
   "language": "python",
   "name": "python3"
  },
  "language_info": {
   "codemirror_mode": {
    "name": "ipython",
    "version": 3
   },
   "file_extension": ".py",
   "mimetype": "text/x-python",
   "name": "python",
   "nbconvert_exporter": "python",
   "pygments_lexer": "ipython3",
   "version": "3.12.4"
  }
 },
 "nbformat": 4,
 "nbformat_minor": 5
}

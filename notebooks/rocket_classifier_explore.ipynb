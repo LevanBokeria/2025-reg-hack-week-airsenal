{
 "cells": [
  {
   "cell_type": "code",
   "execution_count": null,
   "id": "b7a4a1e5",
   "metadata": {},
   "outputs": [],
   "source": [
    "#importing the necessary libraries\n",
    "import matplotlib.pyplot as plt\n",
    "import seaborn as sns\n",
    "from sklearn.metrics import confusion_matrix, classification_report\n",
    "from sktime.classification.kernel_based import RocketClassifier\n",
    "from sktime.datasets import load_arrow_head  # Example dataset\n",
    "\n",
    "# Load a sample time series dataset (ArrowHead dataset for demonstration)\n",
    "X, y = load_arrow_head(return_X_y=True)\n",
    "\n",
    "# Split the dataset into training and testing sets\n",
    "X_train, y_train = X[:60], y[:60]\n",
    "X_test, y_test = X[60:], y[60:]\n",
    "\n"
   ]
  },
  {
   "cell_type": "code",
   "execution_count": null,
   "id": "88a1cc0b",
   "metadata": {},
   "outputs": [],
   "source": [
    "# Create and fit the ROCKET classifier\n",
    "clf = RocketClassifier(num_kernels=500)\n",
    "clf.fit(X_train, y_train)\n",
    "\n",
    "# Generate predictions on the test set\n",
    "y_pred = clf.predict(X_test)\n",
    "\n",
    "# Create a confusion matrix\n",
    "conf_matrix = confusion_matrix(y_test, y_pred)\n",
    "\n",
    "# Create a heatmap for the confusion matrix\n",
    "plt.figure(figsize=(8, 6))\n",
    "sns.heatmap(conf_matrix, annot=True, fmt='d', cmap='Blues', cbar=False)\n",
    "plt.xlabel('Predicted Labels')\n",
    "plt.ylabel('True Labels')\n",
    "plt.title('Confusion Matrix')\n",
    "plt.show()\n",
    "\n",
    "# Create a classification report\n",
    "class_report = classification_report(y_test, y_pred)\n",
    "\n",
    "# Print the classification report\n",
    "print(\"Classification Report:\\n\", class_report)"
   ]
  }
 ],
 "metadata": {
  "kernelspec": {
   "display_name": "venv",
   "language": "python",
   "name": "python3"
  },
  "language_info": {
   "codemirror_mode": {
    "name": "ipython",
    "version": 3
   },
   "file_extension": ".py",
   "mimetype": "text/x-python",
   "name": "python",
   "nbconvert_exporter": "python",
   "pygments_lexer": "ipython3",
   "version": "3.12.4"
  }
 },
 "nbformat": 4,
 "nbformat_minor": 5
}

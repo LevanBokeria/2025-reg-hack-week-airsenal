{
 "cells": [
  {
   "cell_type": "code",
   "execution_count": 1,
   "id": "b7a4a1e5",
   "metadata": {},
   "outputs": [
    {
     "name": "stderr",
     "output_type": "stream",
     "text": [
      "OMP: Info #276: omp_set_nested routine deprecated, please use omp_set_max_active_levels instead.\n"
     ]
    },
    {
     "data": {
      "image/png": "[encoded data removed]",
      "text/plain": [
       "<Figure size 800x600 with 1 Axes>"
      ]
     },
     "metadata": {},
     "output_type": "display_data"
    },
    {
     "name": "stdout",
     "output_type": "stream",
     "text": [
      "Classification Report:\n",
      "               precision    recall  f1-score   support\n",
      "\n",
      "           0       0.79      0.91      0.85        45\n",
      "           1       0.89      0.79      0.84        53\n",
      "           2       0.96      0.94      0.95        53\n",
      "\n",
      "    accuracy                           0.88       151\n",
      "   macro avg       0.88      0.88      0.88       151\n",
      "weighted avg       0.89      0.88      0.88       151\n",
      "\n"
     ]
    }
   ],
   "source": [
    "#importing the necessary libraries\n",
    "import matplotlib.pyplot as plt\n",
    "import seaborn as sns\n",
    "from sklearn.metrics import confusion_matrix, classification_report\n",
    "from sktime.classification.kernel_based import RocketClassifier\n",
    "from sktime.datasets import load_arrow_head  # Example dataset\n",
    "\n",
    "# Load a sample time series dataset (ArrowHead dataset for demonstration)\n",
    "X, y = load_arrow_head(return_X_y=True)\n",
    "\n",
    "# Split the dataset into training and testing sets\n",
    "X_train, y_train = X[:60], y[:60]\n",
    "X_test, y_test = X[60:], y[60:]\n",
    "\n",
    "# Create and fit the ROCKET classifier\n",
    "clf = RocketClassifier(num_kernels=500)\n",
    "clf.fit(X_train, y_train)\n",
    "\n",
    "# Generate predictions on the test set\n",
    "y_pred = clf.predict(X_test)\n",
    "\n",
    "# Create a confusion matrix\n",
    "conf_matrix = confusion_matrix(y_test, y_pred)\n",
    "\n",
    "# Create a heatmap for the confusion matrix\n",
    "plt.figure(figsize=(8, 6))\n",
    "sns.heatmap(conf_matrix, annot=True, fmt='d', cmap='Blues', cbar=False)\n",
    "plt.xlabel('Predicted Labels')\n",
    "plt.ylabel('True Labels')\n",
    "plt.title('Confusion Matrix')\n",
    "plt.show()\n",
    "\n",
    "# Create a classification report\n",
    "class_report = classification_report(y_test, y_pred)\n",
    "\n",
    "# Print the classification report\n",
    "print(\"Classification Report:\\n\", class_report)"
   ]
  },
  {
   "cell_type": "code",
   "execution_count": 6,
   "id": "88a1cc0b",
   "metadata": {},
   "outputs": [
    {
     "data": {
      "application/vnd.microsoft.datawrangler.viewer.v0+json": {
       "columns": [
        {
         "name": "index",
         "rawType": "int64",
         "type": "integer"
        },
        {
         "name": "0",
         "rawType": "float64",
         "type": "float"
        }
       ],
       "ref": "3bdca2d3-40f1-4a8d-8f54-8a8a199a1f2d",
       "rows": [
        [
         "0",
         "-1.9630089"
        ],
        [
         "1",
         "-1.9578249"
        ],
        [
         "2",
         "-1.9561449"
        ],
        [
         "3",
         "-1.9382889"
        ],
        [
         "4",
         "-1.8966569"
        ],
        [
         "5",
         "-1.8698569"
        ],
        [
         "6",
         "-1.8387049"
        ],
        [
         "7",
         "-1.8122888"
        ],
        [
         "8",
         "-1.7364328"
        ],
        [
         "9",
         "-1.6733288"
        ],
        [
         "10",
         "-1.6230727"
        ],
        [
         "11",
         "-1.5858727"
        ],
        [
         "12",
         "-1.5438407"
        ],
        [
         "13",
         "-1.4567846"
        ],
        [
         "14",
         "-1.3787206"
        ],
        [
         "15",
         "-1.2924965"
        ],
        [
         "16",
         "-1.2169605"
        ],
        [
         "17",
         "-1.1089764"
        ],
        [
         "18",
         "-0.96868834"
        ],
        [
         "19",
         "-0.83160026"
        ],
        [
         "20",
         "-0.76030422"
        ],
        [
         "21",
         "-0.59963213"
        ],
        [
         "22",
         "-0.46625605"
        ],
        [
         "23",
         "-0.30638396"
        ],
        [
         "24",
         "-0.22684791"
        ],
        [
         "25",
         "-0.089759829"
        ],
        [
         "26",
         "0.041376247"
        ],
        [
         "27",
         "0.23203876"
        ],
        [
         "28",
         "0.38728525"
        ],
        [
         "29",
         "0.41471247"
        ],
        [
         "30",
         "0.51567412"
        ],
        [
         "31",
         "0.62614779"
        ],
        [
         "32",
         "0.72741025"
        ],
        [
         "33",
         "0.75345186"
        ],
        [
         "34",
         "0.78001988"
        ],
        [
         "35",
         "0.83840391"
        ],
        [
         "36",
         "0.88817034"
        ],
        [
         "37",
         "0.91981996"
        ],
        [
         "38",
         "0.93344237"
        ],
        [
         "39",
         "0.9834616"
        ],
        [
         "40",
         "1.04958"
        ],
        [
         "41",
         "1.1308921"
        ],
        [
         "42",
         "1.1898697"
        ],
        [
         "43",
         "1.2635882"
        ],
        [
         "44",
         "1.2976586"
        ],
        [
         "45",
         "1.4139322"
        ],
        [
         "46",
         "1.4014314"
        ],
        [
         "47",
         "1.4443339"
        ],
        [
         "48",
         "1.4868475"
        ],
        [
         "49",
         "1.4448603"
        ]
       ],
       "shape": {
        "columns": 1,
        "rows": 251
       }
      },
      "text/plain": [
       "0     -1.963009\n",
       "1     -1.957825\n",
       "2     -1.956145\n",
       "3     -1.938289\n",
       "4     -1.896657\n",
       "         ...   \n",
       "246   -1.841345\n",
       "247   -1.884289\n",
       "248   -1.905393\n",
       "249   -1.923905\n",
       "250   -1.909153\n",
       "Length: 251, dtype: float64"
      ]
     },
     "execution_count": 6,
     "metadata": {},
     "output_type": "execute_result"
    }
   ],
   "source": [
    "X['dim_0'][0]"
   ]
  }
 ],
 "metadata": {
  "kernelspec": {
   "display_name": "venv",
   "language": "python",
   "name": "python3"
  },
  "language_info": {
   "codemirror_mode": {
    "name": "ipython",
    "version": 3
   },
   "file_extension": ".py",
   "mimetype": "text/x-python",
   "name": "python",
   "nbconvert_exporter": "python",
   "pygments_lexer": "ipython3",
   "version": "3.12.4"
  }
 },
 "nbformat": 4,
 "nbformat_minor": 5
}

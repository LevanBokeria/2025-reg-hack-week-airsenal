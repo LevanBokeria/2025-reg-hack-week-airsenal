{
 "cells": [
  {
   "cell_type": "code",
   "execution_count": 3,
   "id": "de836b84-5703-4ff9-a143-520170d02af3",
   "metadata": {},
   "outputs": [],
   "source": [
    "import sqlite3\n",
    "import pandas as pd\n",
    "import numpy as np\n",
    "import tensorflow as tf\n",
    "import matplotlib.pyplot as plt\n",
    "from tqdm import tqdm\n",
    "import xgboost\n",
    "import random\n",
    "import pickle\n",
    "import os\n",
    "\n",
    "import warnings\n",
    "warnings.simplefilter(action='ignore')"
   ]
  },
  {
   "cell_type": "code",
   "execution_count": 19,
   "id": "b9f5c2f5-d40a-4d29-b8b5-d3d489166923",
   "metadata": {},
   "outputs": [],
   "source": [
    "for path in ['GK/', 'DEF/', 'MID/', 'FWD/']:\n",
    "    files = os.listdir(path)\n",
    "    for i_file_nr in range(len(files)):\n",
    "        if 'Binned' not in files[i_file_nr]:\n",
    "            if '.csv' in files[i_file_nr]:\n",
    "                file = pd.read_csv(path + files[i_file_nr])\n",
    "                for i_file in range(len(file)):\n",
    "                    if file.predmin.iloc[i_file] < 10:\n",
    "                        file.predmin.iloc[i_file] = 0\n",
    "                    elif file.predmin.iloc[i_file] > 80:\n",
    "                        file.predmin.iloc[i_file] = 90\n",
    "                \n",
    "                file.to_csv(path + 'Binned_' + files[i_file_nr])"
   ]
  },
  {
   "cell_type": "code",
   "execution_count": 8,
   "id": "3e72a49d-1961-44ed-871f-946ffc674542",
   "metadata": {},
   "outputs": [
    {
     "data": {
      "text/plain": [
       "'Lynge_CNN1D_Hard_Sigmoid_DEF.csv'"
      ]
     },
     "execution_count": 8,
     "metadata": {},
     "output_type": "execute_result"
    }
   ],
   "source": [
    "files[3]"
   ]
  },
  {
   "cell_type": "code",
   "execution_count": 9,
   "id": "7fe224bc-bbcc-4c11-b259-e899d4583519",
   "metadata": {},
   "outputs": [],
   "source": []
  },
  {
   "cell_type": "code",
   "execution_count": 17,
   "id": "43828d5a-fd09-4d57-9116-2df945c6c280",
   "metadata": {},
   "outputs": [],
   "source": []
  },
  {
   "cell_type": "code",
   "execution_count": 16,
   "id": "26245d8a-cdf1-4b09-9e7a-00b5c1d2845a",
   "metadata": {},
   "outputs": [
    {
     "data": {
      "text/html": [
       "<div>\n",
       "<style scoped>\n",
       "    .dataframe tbody tr th:only-of-type {\n",
       "        vertical-align: middle;\n",
       "    }\n",
       "\n",
       "    .dataframe tbody tr th {\n",
       "        vertical-align: top;\n",
       "    }\n",
       "\n",
       "    .dataframe thead th {\n",
       "        text-align: right;\n",
       "    }\n",
       "</style>\n",
       "<table border=\"1\" class=\"dataframe\">\n",
       "  <thead>\n",
       "    <tr style=\"text-align: right;\">\n",
       "      <th></th>\n",
       "      <th>Unnamed: 0</th>\n",
       "      <th>player_id</th>\n",
       "      <th>datetime</th>\n",
       "      <th>minutes</th>\n",
       "      <th>predmin</th>\n",
       "    </tr>\n",
       "  </thead>\n",
       "  <tbody>\n",
       "    <tr>\n",
       "      <th>0</th>\n",
       "      <td>0</td>\n",
       "      <td>645</td>\n",
       "      <td>2024-09-21</td>\n",
       "      <td>0</td>\n",
       "      <td>0</td>\n",
       "    </tr>\n",
       "    <tr>\n",
       "      <th>1</th>\n",
       "      <td>1</td>\n",
       "      <td>645</td>\n",
       "      <td>2024-09-30</td>\n",
       "      <td>0</td>\n",
       "      <td>0</td>\n",
       "    </tr>\n",
       "    <tr>\n",
       "      <th>2</th>\n",
       "      <td>2</td>\n",
       "      <td>645</td>\n",
       "      <td>2024-10-05</td>\n",
       "      <td>0</td>\n",
       "      <td>0</td>\n",
       "    </tr>\n",
       "    <tr>\n",
       "      <th>3</th>\n",
       "      <td>3</td>\n",
       "      <td>645</td>\n",
       "      <td>2024-10-19</td>\n",
       "      <td>0</td>\n",
       "      <td>0</td>\n",
       "    </tr>\n",
       "    <tr>\n",
       "      <th>4</th>\n",
       "      <td>4</td>\n",
       "      <td>645</td>\n",
       "      <td>2024-10-26</td>\n",
       "      <td>13</td>\n",
       "      <td>0</td>\n",
       "    </tr>\n",
       "    <tr>\n",
       "      <th>...</th>\n",
       "      <td>...</td>\n",
       "      <td>...</td>\n",
       "      <td>...</td>\n",
       "      <td>...</td>\n",
       "      <td>...</td>\n",
       "    </tr>\n",
       "    <tr>\n",
       "      <th>4941</th>\n",
       "      <td>4941</td>\n",
       "      <td>1285</td>\n",
       "      <td>2023-04-30</td>\n",
       "      <td>0</td>\n",
       "      <td>64</td>\n",
       "    </tr>\n",
       "    <tr>\n",
       "      <th>4942</th>\n",
       "      <td>4942</td>\n",
       "      <td>1285</td>\n",
       "      <td>2023-05-06</td>\n",
       "      <td>90</td>\n",
       "      <td>36</td>\n",
       "    </tr>\n",
       "    <tr>\n",
       "      <th>4943</th>\n",
       "      <td>4943</td>\n",
       "      <td>1285</td>\n",
       "      <td>2023-05-13</td>\n",
       "      <td>90</td>\n",
       "      <td>59</td>\n",
       "    </tr>\n",
       "    <tr>\n",
       "      <th>4944</th>\n",
       "      <td>4944</td>\n",
       "      <td>1285</td>\n",
       "      <td>2023-05-21</td>\n",
       "      <td>0</td>\n",
       "      <td>68</td>\n",
       "    </tr>\n",
       "    <tr>\n",
       "      <th>4945</th>\n",
       "      <td>4945</td>\n",
       "      <td>1285</td>\n",
       "      <td>2023-05-28</td>\n",
       "      <td>30</td>\n",
       "      <td>21</td>\n",
       "    </tr>\n",
       "  </tbody>\n",
       "</table>\n",
       "<p>4946 rows × 5 columns</p>\n",
       "</div>"
      ],
      "text/plain": [
       "      Unnamed: 0  player_id    datetime  minutes  predmin\n",
       "0              0        645  2024-09-21        0        0\n",
       "1              1        645  2024-09-30        0        0\n",
       "2              2        645  2024-10-05        0        0\n",
       "3              3        645  2024-10-19        0        0\n",
       "4              4        645  2024-10-26       13        0\n",
       "...          ...        ...         ...      ...      ...\n",
       "4941        4941       1285  2023-04-30        0       64\n",
       "4942        4942       1285  2023-05-06       90       36\n",
       "4943        4943       1285  2023-05-13       90       59\n",
       "4944        4944       1285  2023-05-21        0       68\n",
       "4945        4945       1285  2023-05-28       30       21\n",
       "\n",
       "[4946 rows x 5 columns]"
      ]
     },
     "execution_count": 16,
     "metadata": {},
     "output_type": "execute_result"
    }
   ],
   "source": [
    "file"
   ]
  },
  {
   "cell_type": "code",
   "execution_count": null,
   "id": "f614b16e-5a2d-4a5a-abc3-8faf489e4180",
   "metadata": {},
   "outputs": [],
   "source": []
  }
 ],
 "metadata": {
  "kernelspec": {
   "display_name": "Python 3 (ipykernel)",
   "language": "python",
   "name": "python3"
  },
  "language_info": {
   "codemirror_mode": {
    "name": "ipython",
    "version": 3
   },
   "file_extension": ".py",
   "mimetype": "text/x-python",
   "name": "python",
   "nbconvert_exporter": "python",
   "pygments_lexer": "ipython3",
   "version": "3.12.9"
  }
 },
 "nbformat": 4,
 "nbformat_minor": 5
}
